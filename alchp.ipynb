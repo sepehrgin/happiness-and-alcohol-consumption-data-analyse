{
 "cells": [
  {
   "cell_type": "code",
   "execution_count": 1,
   "id": "312b3233-5165-46c8-8e61-5f3f4f89be7f",
   "metadata": {},
   "outputs": [],
   "source": [
    "import numpy as np\n",
    "import pandas as pd\n",
    "import matplotlib.pyplot as plt\n",
    "import seaborn as sns\n",
    "from sklearn.preprocessing import LabelEncoder\n",
    "import plotly.express as px"
   ]
  },
  {
   "cell_type": "code",
   "execution_count": 2,
   "id": "6852487b-79be-4926-91a8-e07ac3a907ca",
   "metadata": {},
   "outputs": [
    {
     "data": {
      "text/html": [
       "<div>\n",
       "<style scoped>\n",
       "    .dataframe tbody tr th:only-of-type {\n",
       "        vertical-align: middle;\n",
       "    }\n",
       "\n",
       "    .dataframe tbody tr th {\n",
       "        vertical-align: top;\n",
       "    }\n",
       "\n",
       "    .dataframe thead th {\n",
       "        text-align: right;\n",
       "    }\n",
       "</style>\n",
       "<table border=\"1\" class=\"dataframe\">\n",
       "  <thead>\n",
       "    <tr style=\"text-align: right;\">\n",
       "      <th></th>\n",
       "      <th>Country</th>\n",
       "      <th>Region</th>\n",
       "      <th>Hemisphere</th>\n",
       "      <th>HappinessScore</th>\n",
       "      <th>HDI</th>\n",
       "      <th>GDP_PerCapita</th>\n",
       "      <th>Beer_PerCapita</th>\n",
       "      <th>Spirit_PerCapita</th>\n",
       "      <th>Wine_PerCapita</th>\n",
       "    </tr>\n",
       "  </thead>\n",
       "  <tbody>\n",
       "    <tr>\n",
       "      <th>0</th>\n",
       "      <td>Denmark</td>\n",
       "      <td>Western Europe</td>\n",
       "      <td>north</td>\n",
       "      <td>7.526</td>\n",
       "      <td>928</td>\n",
       "      <td>53.579</td>\n",
       "      <td>224</td>\n",
       "      <td>81</td>\n",
       "      <td>278</td>\n",
       "    </tr>\n",
       "    <tr>\n",
       "      <th>1</th>\n",
       "      <td>Switzerland</td>\n",
       "      <td>Western Europe</td>\n",
       "      <td>north</td>\n",
       "      <td>7.509</td>\n",
       "      <td>943</td>\n",
       "      <td>79.866</td>\n",
       "      <td>185</td>\n",
       "      <td>100</td>\n",
       "      <td>280</td>\n",
       "    </tr>\n",
       "    <tr>\n",
       "      <th>2</th>\n",
       "      <td>Iceland</td>\n",
       "      <td>Western Europe</td>\n",
       "      <td>north</td>\n",
       "      <td>7.501</td>\n",
       "      <td>933</td>\n",
       "      <td>60.530</td>\n",
       "      <td>233</td>\n",
       "      <td>61</td>\n",
       "      <td>78</td>\n",
       "    </tr>\n",
       "    <tr>\n",
       "      <th>3</th>\n",
       "      <td>Norway</td>\n",
       "      <td>Western Europe</td>\n",
       "      <td>north</td>\n",
       "      <td>7.498</td>\n",
       "      <td>951</td>\n",
       "      <td>70.890</td>\n",
       "      <td>169</td>\n",
       "      <td>71</td>\n",
       "      <td>129</td>\n",
       "    </tr>\n",
       "    <tr>\n",
       "      <th>4</th>\n",
       "      <td>Finland</td>\n",
       "      <td>Western Europe</td>\n",
       "      <td>north</td>\n",
       "      <td>7.413</td>\n",
       "      <td>918</td>\n",
       "      <td>43.433</td>\n",
       "      <td>263</td>\n",
       "      <td>133</td>\n",
       "      <td>97</td>\n",
       "    </tr>\n",
       "  </tbody>\n",
       "</table>\n",
       "</div>"
      ],
      "text/plain": [
       "       Country          Region Hemisphere  HappinessScore  HDI  GDP_PerCapita  \\\n",
       "0      Denmark  Western Europe      north           7.526  928         53.579   \n",
       "1  Switzerland  Western Europe      north           7.509  943         79.866   \n",
       "2      Iceland  Western Europe      north           7.501  933         60.530   \n",
       "3       Norway  Western Europe      north           7.498  951         70.890   \n",
       "4      Finland  Western Europe      north           7.413  918         43.433   \n",
       "\n",
       "   Beer_PerCapita  Spirit_PerCapita  Wine_PerCapita  \n",
       "0             224                81             278  \n",
       "1             185               100             280  \n",
       "2             233                61              78  \n",
       "3             169                71             129  \n",
       "4             263               133              97  "
      ]
     },
     "execution_count": 2,
     "metadata": {},
     "output_type": "execute_result"
    }
   ],
   "source": [
    "df = pd.read_csv(\"HappinessAlcoholConsumption.csv\")\n",
    "df.head()"
   ]
  },
  {
   "cell_type": "markdown",
   "id": "12f788ae-d11d-4fb4-abb6-75cce6f15224",
   "metadata": {},
   "source": [
    "this dataframe contains 121 countries and the amount and type of alcohol in each one of them."
   ]
  },
  {
   "cell_type": "code",
   "execution_count": 9,
   "id": "41995ffe-fc94-4799-97ed-60c432115e41",
   "metadata": {},
   "outputs": [],
   "source": [
    "df = df.drop_duplicates().dropna().drop(columns=\"GDP_PerCapita\")"
   ]
  },
  {
   "cell_type": "markdown",
   "id": "e0656593-9664-4f4f-8a05-736f70a4980c",
   "metadata": {},
   "source": [
    "cleaning data.\n",
    "gpd percapita removed because it's data was unacurate."
   ]
  },
  {
   "cell_type": "code",
   "execution_count": 6,
   "id": "7385235d-1f14-43b6-862c-9356e5a0b52d",
   "metadata": {},
   "outputs": [
    {
     "name": "stdout",
     "output_type": "stream",
     "text": [
      "[(0, 'Denmark'), (1, 'Switzerland'), (2, 'Iceland'), (3, 'Norway'), (4, 'Finland'), (5, 'Canada'), (6, 'Netherlands'), (7, 'New Zealand'), (8, 'Australia'), (9, 'Sweden'), (10, 'Israel'), (11, 'Austria'), (12, 'United States'), (13, 'Costa Rica'), (14, 'Germany'), (15, 'Brazil'), (16, 'Belgium'), (17, 'Ireland'), (18, 'Luxembourg'), (19, 'Mexico'), (20, 'Singapore'), (21, 'United Kingdom'), (22, 'Chile'), (23, 'Panama'), (24, 'Argentina'), (25, 'Czech Republic'), (26, 'United Arab Emirates'), (27, 'Uruguay'), (28, 'Malta'), (29, 'Colombia'), (30, 'France'), (31, 'Thailand'), (32, 'Qatar'), (33, 'Spain'), (34, 'Guatemala'), (35, 'Suriname'), (36, 'Bahrain'), (37, 'Trinidad and Tobago'), (38, 'Venezuela'), (39, 'Slovakia'), (40, 'El Salvador'), (41, 'Nicaragua'), (42, 'Uzbekistan'), (43, 'Italy'), (44, 'Ecuador'), (45, 'Belize'), (46, 'Japan'), (47, 'Kazakhstan'), (48, 'Moldova'), (49, 'Russian Federation'), (50, 'Poland'), (51, 'South Korea'), (52, 'Bolivia'), (53, 'Lithuania'), (54, 'Belarus'), (55, 'Slovenia'), (56, 'Peru'), (57, 'Turkmenistan'), (58, 'Mauritius'), (59, 'Latvia'), (60, 'Cyprus'), (61, 'Paraguay'), (62, 'Romania'), (63, 'Estonia'), (64, 'Jamaica'), (65, 'Croatia'), (66, 'Turkey'), (67, 'Jordan'), (68, 'Azerbaijan'), (69, 'Philippines'), (70, 'China'), (71, 'Kyrgyzstan'), (72, 'Serbia'), (73, 'Bosnia and Herzegovina'), (74, 'Montenegro'), (75, 'Dominican Republic'), (76, 'Morocco'), (77, 'Hungary'), (78, 'Lebanon'), (79, 'Portugal'), (80, 'Macedonia'), (81, 'Vietnam'), (82, 'Tunisia'), (83, 'Greece'), (84, 'Mongolia'), (85, 'Nigeria'), (86, 'Honduras'), (87, 'Zambia'), (88, 'Albania'), (89, 'Sierra Leone'), (90, 'Namibia'), (91, 'Cameroon'), (92, 'South Africa'), (93, 'Egypt'), (94, 'Armenia'), (95, 'Kenya'), (96, 'Ukraine'), (97, 'Ghana'), (98, 'Dem. Rep. Congo'), (99, 'Georgia'), (100, 'Rep. Congo'), (101, 'Senegal'), (102, 'Bulgaria'), (103, 'Zimbabwe'), (104, 'Malawi'), (105, 'Gabon'), (106, 'Mali'), (107, 'Haiti'), (108, 'Botswana'), (109, 'Comoros'), (110, \"Cote d'Ivoire\"), (111, 'Cambodia'), (112, 'Angola'), (113, 'Niger'), (114, 'Chad'), (115, 'Burkina Faso'), (116, 'Madagascar'), (117, 'Tanzania'), (118, 'Liberia'), (119, 'Benin'), (120, 'Togo'), (121, 'Syria')]\n",
      "['Australia and New Zealand' 'Central and Eastern Europe' 'Eastern Asia'\n",
      " 'Latin America and Caribbean' 'Middle East and Northern Africa'\n",
      " 'North America']\n",
      "['both' 'north' 'noth']\n"
     ]
    }
   ],
   "source": [
    "encoder = LabelEncoder()\n",
    "encoded_country_list = []\n",
    "df[\"encoded_country\"] = encoder.fit_transform(df[\"Country\"])\n",
    "\n",
    "i = 0\n",
    "for encoded in encoder.inverse_transform(df[\"encoded_country\"]):    \n",
    "    encoded_country_list.append((i, encoded))\n",
    "    i+=1\n",
    "print(encoded_country_list)  \n",
    "\n",
    "df[\"encoded_region\"] = encoder.fit_transform(df[\"Region\"])\n",
    "print(encoder.inverse_transform([0, 1, 2, 3, 4, 5]))\n",
    "      \n",
    "df[\"encoded_hemisphere\"] = encoder.fit_transform(df[\"Hemisphere\"])\n",
    "print(encoder.inverse_transform([0, 1, 2]))"
   ]
  },
  {
   "cell_type": "markdown",
   "id": "8d76525c-6b0a-41e4-b94a-df29f3310aed",
   "metadata": {},
   "source": [
    "encoding non_number values for heatmap."
   ]
  },
  {
   "cell_type": "code",
   "execution_count": 10,
   "id": "1af091de-2514-4831-9e2d-92311dadce9b",
   "metadata": {},
   "outputs": [
    {
     "data": {
      "text/html": [
       "<div>\n",
       "<style scoped>\n",
       "    .dataframe tbody tr th:only-of-type {\n",
       "        vertical-align: middle;\n",
       "    }\n",
       "\n",
       "    .dataframe tbody tr th {\n",
       "        vertical-align: top;\n",
       "    }\n",
       "\n",
       "    .dataframe thead th {\n",
       "        text-align: right;\n",
       "    }\n",
       "</style>\n",
       "<table border=\"1\" class=\"dataframe\">\n",
       "  <thead>\n",
       "    <tr style=\"text-align: right;\">\n",
       "      <th></th>\n",
       "      <th>Country</th>\n",
       "      <th>Region</th>\n",
       "      <th>Hemisphere</th>\n",
       "      <th>HappinessScore</th>\n",
       "      <th>HDI</th>\n",
       "      <th>Beer_PerCapita</th>\n",
       "      <th>Spirit_PerCapita</th>\n",
       "      <th>Wine_PerCapita</th>\n",
       "      <th>encoded_country</th>\n",
       "      <th>encoded_region</th>\n",
       "      <th>encoded_hemisphere</th>\n",
       "    </tr>\n",
       "  </thead>\n",
       "  <tbody>\n",
       "    <tr>\n",
       "      <th>0</th>\n",
       "      <td>Denmark</td>\n",
       "      <td>Western Europe</td>\n",
       "      <td>north</td>\n",
       "      <td>7.526</td>\n",
       "      <td>928</td>\n",
       "      <td>224</td>\n",
       "      <td>81</td>\n",
       "      <td>278</td>\n",
       "      <td>32</td>\n",
       "      <td>8</td>\n",
       "      <td>1</td>\n",
       "    </tr>\n",
       "    <tr>\n",
       "      <th>1</th>\n",
       "      <td>Switzerland</td>\n",
       "      <td>Western Europe</td>\n",
       "      <td>north</td>\n",
       "      <td>7.509</td>\n",
       "      <td>943</td>\n",
       "      <td>185</td>\n",
       "      <td>100</td>\n",
       "      <td>280</td>\n",
       "      <td>103</td>\n",
       "      <td>8</td>\n",
       "      <td>1</td>\n",
       "    </tr>\n",
       "    <tr>\n",
       "      <th>2</th>\n",
       "      <td>Iceland</td>\n",
       "      <td>Western Europe</td>\n",
       "      <td>north</td>\n",
       "      <td>7.501</td>\n",
       "      <td>933</td>\n",
       "      <td>233</td>\n",
       "      <td>61</td>\n",
       "      <td>78</td>\n",
       "      <td>49</td>\n",
       "      <td>8</td>\n",
       "      <td>1</td>\n",
       "    </tr>\n",
       "    <tr>\n",
       "      <th>3</th>\n",
       "      <td>Norway</td>\n",
       "      <td>Western Europe</td>\n",
       "      <td>north</td>\n",
       "      <td>7.498</td>\n",
       "      <td>951</td>\n",
       "      <td>169</td>\n",
       "      <td>71</td>\n",
       "      <td>129</td>\n",
       "      <td>81</td>\n",
       "      <td>8</td>\n",
       "      <td>1</td>\n",
       "    </tr>\n",
       "    <tr>\n",
       "      <th>4</th>\n",
       "      <td>Finland</td>\n",
       "      <td>Western Europe</td>\n",
       "      <td>north</td>\n",
       "      <td>7.413</td>\n",
       "      <td>918</td>\n",
       "      <td>263</td>\n",
       "      <td>133</td>\n",
       "      <td>97</td>\n",
       "      <td>38</td>\n",
       "      <td>8</td>\n",
       "      <td>1</td>\n",
       "    </tr>\n",
       "  </tbody>\n",
       "</table>\n",
       "</div>"
      ],
      "text/plain": [
       "       Country          Region Hemisphere  HappinessScore  HDI  \\\n",
       "0      Denmark  Western Europe      north           7.526  928   \n",
       "1  Switzerland  Western Europe      north           7.509  943   \n",
       "2      Iceland  Western Europe      north           7.501  933   \n",
       "3       Norway  Western Europe      north           7.498  951   \n",
       "4      Finland  Western Europe      north           7.413  918   \n",
       "\n",
       "   Beer_PerCapita  Spirit_PerCapita  Wine_PerCapita  encoded_country  \\\n",
       "0             224                81             278               32   \n",
       "1             185               100             280              103   \n",
       "2             233                61              78               49   \n",
       "3             169                71             129               81   \n",
       "4             263               133              97               38   \n",
       "\n",
       "   encoded_region  encoded_hemisphere  \n",
       "0               8                   1  \n",
       "1               8                   1  \n",
       "2               8                   1  \n",
       "3               8                   1  \n",
       "4               8                   1  "
      ]
     },
     "execution_count": 10,
     "metadata": {},
     "output_type": "execute_result"
    }
   ],
   "source": [
    "df.head()"
   ]
  },
  {
   "cell_type": "code",
   "execution_count": 11,
   "id": "49dc31cc-8ee2-4de4-8304-dca88e646203",
   "metadata": {},
   "outputs": [
    {
     "data": {
      "text/plain": [
       "<Axes: >"
      ]
     },
     "execution_count": 11,
     "metadata": {},
     "output_type": "execute_result"
    },
    {
     "data": {
      "image/png": "[encoded data removed]",
      "text/plain": [
       "<Figure size 2000x900 with 2 Axes>"
      ]
     },
     "metadata": {},
     "output_type": "display_data"
    }
   ],
   "source": [
    "plt.figure(figsize=(20,9))\n",
    "tmp = df.drop(columns=[\"Country\",\"Region\",\"Hemisphere\"])\n",
    "sns.heatmap(tmp.corr(), annot=True, fmt=\"0.2f\")"
   ]
  },
  {
   "cell_type": "markdown",
   "id": "3425abbd-d274-488e-b140-c9ba09914eee",
   "metadata": {},
   "source": [
    "heatmap shows:\n",
    "1. HDI and Happiness score are directly dependent on each other; meaning that the higher the HDI the higher the happines score is.\n",
    "2. HDI with wine percapita and beer percapita are half correlated. the heatmap shows that the higher the HDI goes drinking wine and beer increases.\n",
    "3. Happiness with beer and wine percapita are half correlated. "
   ]
  },
  {
   "cell_type": "code",
   "execution_count": 7,
   "id": "99cc44d6-e0f9-4c62-b283-2e11c27386b3",
   "metadata": {},
   "outputs": [
    {
     "data": {
      "image/png": "[encoded data removed]",
      "text/plain": [
       "<Figure size 800x600 with 1 Axes>"
      ]
     },
     "metadata": {},
     "output_type": "display_data"
    }
   ],
   "source": [
    "fig = plt.figure(figsize = (8,6))\n",
    "ax = fig.add_subplot()\n",
    "x = [0,1,2]\n",
    "y = [df[\"Beer_PerCapita\"].mean(), df[\"Spirit_PerCapita\"].mean(), df[\"Wine_PerCapita\"].mean()]\n",
    "ax.bar(x,y)\n",
    "ax.set_xticks(x, [\"Beer_PerCapita\", \"Spirit_PerCapita\", \"Wine_PerCapita\"], rotation=0)\n",
    "ax.grid()"
   ]
  },
  {
   "cell_type": "markdown",
   "id": "e81c31da-73ee-4262-8ee4-13b880da809b",
   "metadata": {},
   "source": [
    "this plot shows that how much of each type of alcohol has been consumed."
   ]
  },
  {
   "cell_type": "code",
   "execution_count": 8,
   "id": "0e4e65b2-bc57-4f68-84ed-16c857b2d03d",
   "metadata": {},
   "outputs": [
    {
     "data": {
      "image/png": "[encoded data removed]",
      "text/plain": [
       "<Figure size 1600x500 with 1 Axes>"
      ]
     },
     "metadata": {},
     "output_type": "display_data"
    }
   ],
   "source": [
    "fig = plt.figure(figsize=(16,5))\n",
    "ax = fig.add_subplot()\n",
    "ax.set_xlabel(\"Country\")\n",
    "ax.set_title(\"Beer_PerCapita\")\n",
    "\n",
    "j = 0\n",
    "for i in df.sort_values(by=[\"Beer_PerCapita\"], ascending=False).index:\n",
    "    j = j + 1\n",
    "    if j <= 10:\n",
    "        ax.bar(df.iloc[i][\"Country\"], df.iloc[i][\"Beer_PerCapita\"])\n",
    "    elif j > 10:\n",
    "        break "
   ]
  },
  {
   "cell_type": "markdown",
   "id": "84d5d166-b6b0-4c56-917e-83a49ed05767",
   "metadata": {},
   "source": [
    "according to this plot this are the top 10 countries wich has the most beer consumption."
   ]
  },
  {
   "cell_type": "code",
   "execution_count": 9,
   "id": "2abc8e06-e67f-4a63-8c03-e82948fb8fea",
   "metadata": {},
   "outputs": [
    {
     "data": {
      "image/png": "[encoded data removed]",
      "text/plain": [
       "<Figure size 1600x500 with 1 Axes>"
      ]
     },
     "metadata": {},
     "output_type": "display_data"
    }
   ],
   "source": [
    "fig = plt.figure(figsize=(16,5))\n",
    "ax = fig.add_subplot()\n",
    "ax.set_xlabel(\"Country\")\n",
    "ax.set_title(\"Spirit_PerCapita\")\n",
    "\n",
    "j = 0\n",
    "for i in df.sort_values(by=[\"Spirit_PerCapita\"], ascending=False).index:\n",
    "    j = j + 1\n",
    "    if j <= 10:\n",
    "        ax.bar(df.iloc[i][\"Country\"], df.iloc[i][\"Spirit_PerCapita\"])\n",
    "    elif j > 10:\n",
    "        break "
   ]
  },
  {
   "cell_type": "markdown",
   "id": "13b7813b-e860-40bf-97c2-d99b8397f34f",
   "metadata": {},
   "source": [
    "according to this plot this are the top 10 countries wich has the most spirit consumption."
   ]
  },
  {
   "cell_type": "code",
   "execution_count": 10,
   "id": "ab3a5d12-bea3-4f07-8eb4-46b7fa7a4fda",
   "metadata": {},
   "outputs": [
    {
     "data": {
      "image/png": "[encoded data removed]",
      "text/plain": [
       "<Figure size 1600x500 with 1 Axes>"
      ]
     },
     "metadata": {},
     "output_type": "display_data"
    }
   ],
   "source": [
    "fig = plt.figure(figsize=(16,5))\n",
    "ax = fig.add_subplot()\n",
    "ax.set_xlabel(\"Country\")\n",
    "ax.set_title(\"Wine_PerCapita\")\n",
    "\n",
    "j = 0\n",
    "for i in df.sort_values(by=[\"Wine_PerCapita\"], ascending=False).index:\n",
    "    j = j + 1\n",
    "    if j <= 10:\n",
    "        ax.bar(df.iloc[i][\"Country\"], df.iloc[i][\"Wine_PerCapita\"])\n",
    "    elif j > 10:\n",
    "        break "
   ]
  },
  {
   "cell_type": "markdown",
   "id": "99b4ee43-48d6-4d08-b0ad-9cb8b4a6a9da",
   "metadata": {},
   "source": [
    "according to this plot this are the top 10 countries wich has the most wine consumption."
   ]
  },
  {
   "cell_type": "code",
   "execution_count": 14,
   "id": "dafcf359-9b6a-40fd-be31-1efa0b05d1d5",
   "metadata": {},
   "outputs": [
    {
     "data": {
      "text/html": [
       "<div>\n",
       "<style scoped>\n",
       "    .dataframe tbody tr th:only-of-type {\n",
       "        vertical-align: middle;\n",
       "    }\n",
       "\n",
       "    .dataframe tbody tr th {\n",
       "        vertical-align: top;\n",
       "    }\n",
       "\n",
       "    .dataframe thead th {\n",
       "        text-align: right;\n",
       "    }\n",
       "</style>\n",
       "<table border=\"1\" class=\"dataframe\">\n",
       "  <thead>\n",
       "    <tr style=\"text-align: right;\">\n",
       "      <th></th>\n",
       "      <th>country</th>\n",
       "      <th>alcohol</th>\n",
       "      <th>HappinessScore</th>\n",
       "      <th>HDI</th>\n",
       "      <th>Beer_PerCapita</th>\n",
       "      <th>Spirit_PerCapita</th>\n",
       "      <th>Wine_PerCapita</th>\n",
       "    </tr>\n",
       "  </thead>\n",
       "  <tbody>\n",
       "    <tr>\n",
       "      <th>0</th>\n",
       "      <td>Denmark</td>\n",
       "      <td>583</td>\n",
       "      <td>7.526</td>\n",
       "      <td>928</td>\n",
       "      <td>224</td>\n",
       "      <td>81</td>\n",
       "      <td>278</td>\n",
       "    </tr>\n",
       "    <tr>\n",
       "      <th>1</th>\n",
       "      <td>Switzerland</td>\n",
       "      <td>565</td>\n",
       "      <td>7.509</td>\n",
       "      <td>943</td>\n",
       "      <td>185</td>\n",
       "      <td>100</td>\n",
       "      <td>280</td>\n",
       "    </tr>\n",
       "    <tr>\n",
       "      <th>2</th>\n",
       "      <td>Iceland</td>\n",
       "      <td>372</td>\n",
       "      <td>7.501</td>\n",
       "      <td>933</td>\n",
       "      <td>233</td>\n",
       "      <td>61</td>\n",
       "      <td>78</td>\n",
       "    </tr>\n",
       "    <tr>\n",
       "      <th>3</th>\n",
       "      <td>Norway</td>\n",
       "      <td>369</td>\n",
       "      <td>7.498</td>\n",
       "      <td>951</td>\n",
       "      <td>169</td>\n",
       "      <td>71</td>\n",
       "      <td>129</td>\n",
       "    </tr>\n",
       "    <tr>\n",
       "      <th>4</th>\n",
       "      <td>Finland</td>\n",
       "      <td>493</td>\n",
       "      <td>7.413</td>\n",
       "      <td>918</td>\n",
       "      <td>263</td>\n",
       "      <td>133</td>\n",
       "      <td>97</td>\n",
       "    </tr>\n",
       "  </tbody>\n",
       "</table>\n",
       "</div>"
      ],
      "text/plain": [
       "       country  alcohol  HappinessScore  HDI  Beer_PerCapita  \\\n",
       "0      Denmark      583           7.526  928             224   \n",
       "1  Switzerland      565           7.509  943             185   \n",
       "2      Iceland      372           7.501  933             233   \n",
       "3       Norway      369           7.498  951             169   \n",
       "4      Finland      493           7.413  918             263   \n",
       "\n",
       "   Spirit_PerCapita  Wine_PerCapita  \n",
       "0                81             278  \n",
       "1               100             280  \n",
       "2                61              78  \n",
       "3                71             129  \n",
       "4               133              97  "
      ]
     },
     "execution_count": 14,
     "metadata": {},
     "output_type": "execute_result"
    }
   ],
   "source": [
    "a_df = pd.DataFrame()\n",
    "a_df[\"country\"]  =df[\"Country\"]\n",
    "a_df[\"alcohol\"] = df[\"Beer_PerCapita\"] + df[\"Spirit_PerCapita\"] + df[\"Wine_PerCapita\"]\n",
    "a_df[\"HappinessScore\"] = df[\"HappinessScore\"]\n",
    "a_df[\"HDI\"] = df[\"HDI\"]\n",
    "a_df[\"Beer_PerCapita\"] = df[\"Beer_PerCapita\"]\n",
    "a_df[\"Spirit_PerCapita\"] = df[\"Spirit_PerCapita\"]\n",
    "a_df[\"Wine_PerCapita\"] = df[\"Wine_PerCapita\"]\n",
    "\n",
    "descending_a_df = a_df.sort_values(by=[\"alcohol\"], ascending=False)\n",
    "ascending_a_df = a_df.sort_values(by=[\"alcohol\"], ascending=True)\n",
    "\n",
    "a_df.head()"
   ]
  },
  {
   "cell_type": "markdown",
   "id": "a2a44ba4-3f1b-4ff1-bef7-15029596edc4",
   "metadata": {},
   "source": [
    "Three dataframes are made:\n",
    "1. a_df: a dataframe that has an extra column \"alcohol\", which is (\"Beer_PerCapita\" + \"Spirit_PerCapita\" + \"Wine_PerCapita\") for each country.\n",
    "2. descending_a_df: sorted descending type of a_df by \"alcohol\" \n",
    "3. ascending_a_df: sorted ascending type of a_df by \"alcohol\""
   ]
  },
  {
   "cell_type": "code",
   "execution_count": 12,
   "id": "8d10ad9e-4534-41d4-9b55-10ce82be81e8",
   "metadata": {},
   "outputs": [
    {
     "name": "stderr",
     "output_type": "stream",
     "text": [
      "C:\\Users\\ASUS\\AppData\\Local\\Temp\\ipykernel_5572\\1186906962.py:7: FutureWarning: The behavior of DataFrame concatenation with empty or all-NA entries is deprecated. In a future version, this will no longer exclude empty or all-NA columns when determining the result dtypes. To retain the old behavior, exclude the relevant entries before the concat operation.\n",
      "  new_df = pd.concat([new_df, new_df1], ignore_index=True)\n"
     ]
    },
    {
     "data": {
      "text/plain": [
       "<Axes: xlabel='country'>"
      ]
     },
     "execution_count": 12,
     "metadata": {},
     "output_type": "execute_result"
    },
    {
     "data": {
      "image/png": "[encoded data removed]",
      "text/plain": [
       "<Figure size 800x500 with 1 Axes>"
      ]
     },
     "metadata": {},
     "output_type": "display_data"
    }
   ],
   "source": [
    "new_df = pd.DataFrame(columns=[\"country\", \"alcohol\", \"HappinessScore\", \"HDI\", \"Beer_PerCapita\", \"Spirit_PerCapita\", \"Wine_PerCapita\"])\n",
    "j = 0\n",
    "for i in descending_a_df.index:\n",
    "    j = j + 1\n",
    "    if j <= 10:\n",
    "        new_df1 = pd.DataFrame([a_df.iloc[i]])\n",
    "        new_df = pd.concat([new_df, new_df1], ignore_index=True)\n",
    "    elif j > 10:\n",
    "        break \n",
    "\n",
    "my_color =[\"steelblue\", \"midnightblue\",\"lightseagreen\"]\n",
    "new_df.plot(x=\"country\", y=[\"Beer_PerCapita\", \"Spirit_PerCapita\", \"Wine_PerCapita\"], \n",
    "            kind=\"bar\",figsize=(8,5), color=my_color)"
   ]
  },
  {
   "cell_type": "markdown",
   "id": "cbfe3e1c-6b4e-45a5-83d2-cc94e0392efa",
   "metadata": {},
   "source": [
    "This plot shows top 10 countries which have the most alcohol consumption divided by each type of alcohol. \n",
    "It is intersting that the most used type of alcohol in each of the top 3 countries are completly differnt:\n",
    "1. Czech Republic: beer \n",
    "2. France: wine\n",
    "3. Russian Federation: spirit\n",
    "\n",
    "people of 5 of this countries prefered drinking beer over the other two."
   ]
  },
  {
   "cell_type": "code",
   "execution_count": 13,
   "id": "10a20a48-f87b-4f6d-b797-0fed77abd8fa",
   "metadata": {},
   "outputs": [
    {
     "data": {
      "image/png": "[encoded data removed]",
      "text/plain": [
       "<Figure size 1500x600 with 1 Axes>"
      ]
     },
     "metadata": {},
     "output_type": "display_data"
    }
   ],
   "source": [
    "fig =plt.figure(figsize=(15,6))\n",
    "ax = fig.add_subplot()\n",
    "ax.set_title(\"all alcohole consumption bottom 10\")\n",
    "\n",
    "j = 0\n",
    "for i in ascending_a_df.index:\n",
    "    j = j + 1\n",
    "    if j <= 10:\n",
    "        ax.bar(a_df.iloc[i][\"country\"], a_df.iloc[i][\"alcohol\"])\n",
    "    elif j > 10:\n",
    "        break "
   ]
  },
  {
   "cell_type": "markdown",
   "id": "dc34b6ae-6d06-405b-9f75-febda4595fcb",
   "metadata": {},
   "source": [
    "10 bottom countries that consume alcohol."
   ]
  },
  {
   "cell_type": "code",
   "execution_count": 14,
   "id": "097fb7aa-db4d-43a3-8b89-55e00a10ffa5",
   "metadata": {},
   "outputs": [
    {
     "data": {
      "image/png": "[encoded data removed]",
      "text/plain": [
       "<Figure size 1500x600 with 1 Axes>"
      ]
     },
     "metadata": {},
     "output_type": "display_data"
    }
   ],
   "source": [
    "fig =plt.figure(figsize=(15,6))\n",
    "ax = fig.add_subplot()\n",
    "ax.set_title(\"all alcohole consumption top 10\")\n",
    "j = 0\n",
    "for i in descending_a_df.index:\n",
    "    j = j + 1\n",
    "    if j <= 10:\n",
    "        ax.bar(a_df.iloc[i][\"country\"], a_df.iloc[i][\"alcohol\"])\n",
    "    elif j > 10:\n",
    "        break  "
   ]
  },
  {
   "cell_type": "markdown",
   "id": "32faddc7-7a71-4000-852c-3175c8cad52e",
   "metadata": {},
   "source": [
    "10 bottom countries that consume alcohol."
   ]
  },
  {
   "cell_type": "code",
   "execution_count": 15,
   "id": "81444aca-8440-46a6-bda4-384a5bb6717e",
   "metadata": {},
   "outputs": [
    {
     "data": {
      "text/plain": [
       "<Axes: >"
      ]
     },
     "execution_count": 15,
     "metadata": {},
     "output_type": "execute_result"
    },
    {
     "data": {
      "image/png": "[encoded data removed]",
      "text/plain": [
       "<Figure size 640x480 with 2 Axes>"
      ]
     },
     "metadata": {},
     "output_type": "display_data"
    }
   ],
   "source": [
    "tmp = a_df.drop(columns=[\"country\", \"Beer_PerCapita\", \"Spirit_PerCapita\", \"Wine_PerCapita\"])\n",
    "sns.heatmap(tmp.corr(), annot=True, fmt=\"0.2f\")"
   ]
  },
  {
   "cell_type": "markdown",
   "id": "53de6a6f-81bf-4ebb-bdaf-9201020f285e",
   "metadata": {},
   "source": [
    "heatmap for HDI, Happiness score, alcohol(sum of \"Beer_PerCapita\", \"Spirit_PerCapita\", \"Wine_PerCapita\"):\n",
    "1. total alcohol consumption and HDI are correlated by coeff of 0.72 meaning where ever the HDI is higher it's alcohol consumption is higher too.\n",
    "2. happiness and total alcohol consomption are half correlated."
   ]
  },
  {
   "cell_type": "code",
   "execution_count": 17,
   "id": "e066a941-94c8-4014-917b-42cb93821f11",
   "metadata": {},
   "outputs": [],
   "source": [
    "alcohol_df = pd.DataFrame()\n",
    "alcohol_df[\"Beer_PerCapita\"] = df[\"Beer_PerCapita\"]\n",
    "alcohol_df[\"Spirit_PerCapita\"] = df[\"Spirit_PerCapita\"]\n",
    "alcohol_df[\"Wine_PerCapita\"] = df[\"Wine_PerCapita\"]"
   ]
  },
  {
   "cell_type": "markdown",
   "id": "ee36b4e6-16bb-4479-9aee-a66dc9ae689b",
   "metadata": {},
   "source": [
    "یک دیتافریم جدید میسازیم که تنها سه ستون مربوط به مصرف الکل در آن باشد تا بر اساس آن بتوانیم با استفاده از تابع .idmax() بیشترین نوع الکلی که در هر کشور مصرف شده را پیدا کنیم"
   ]
  },
  {
   "cell_type": "code",
   "execution_count": 18,
   "id": "3f2f70b4-f98e-4043-a228-4bf6428b8237",
   "metadata": {},
   "outputs": [
    {
     "name": "stdout",
     "output_type": "stream",
     "text": [
      "0 Denmark 278 Wine_PerCapita\n",
      "1 Switzerland 280 Wine_PerCapita\n",
      "2 Iceland 233 Beer_PerCapita\n",
      "3 Norway 169 Beer_PerCapita\n",
      "4 Finland 263 Beer_PerCapita\n",
      "5 Canada 240 Beer_PerCapita\n",
      "6 Netherlands 251 Beer_PerCapita\n",
      "7 New Zealand 203 Beer_PerCapita\n",
      "8 Australia 261 Beer_PerCapita\n",
      "9 Sweden 186 Wine_PerCapita\n",
      "10 Israel 69 Spirit_PerCapita\n",
      "11 Austria 279 Beer_PerCapita\n",
      "12 United States 249 Beer_PerCapita\n",
      "13 Costa Rica 149 Beer_PerCapita\n",
      "14 Germany 346 Beer_PerCapita\n",
      "15 Brazil 245 Beer_PerCapita\n",
      "16 Belgium 295 Beer_PerCapita\n",
      "17 Ireland 313 Beer_PerCapita\n",
      "18 Luxembourg 271 Wine_PerCapita\n",
      "19 Mexico 238 Beer_PerCapita\n",
      "20 Singapore 60 Beer_PerCapita\n",
      "21 United Kingdom 219 Beer_PerCapita\n",
      "22 Chile 172 Wine_PerCapita\n",
      "23 Panama 285 Beer_PerCapita\n",
      "24 Argentina 221 Wine_PerCapita\n",
      "25 Czech Republic 361 Beer_PerCapita\n",
      "26 United Arab Emirates 135 Spirit_PerCapita\n",
      "27 Uruguay 220 Wine_PerCapita\n",
      "28 Malta 149 Beer_PerCapita\n",
      "29 Colombia 159 Beer_PerCapita\n",
      "30 France 370 Wine_PerCapita\n",
      "31 Thailand 258 Spirit_PerCapita\n",
      "32 Qatar 42 Spirit_PerCapita\n",
      "33 Spain 284 Beer_PerCapita\n",
      "34 Guatemala 69 Spirit_PerCapita\n",
      "35 Suriname 178 Spirit_PerCapita\n",
      "36 Bahrain 63 Spirit_PerCapita\n",
      "37 Trinidad and Tobago 197 Beer_PerCapita\n",
      "38 Venezuela 333 Beer_PerCapita\n",
      "39 Slovakia 293 Spirit_PerCapita\n",
      "40 El Salvador 69 Spirit_PerCapita\n",
      "41 Nicaragua 118 Spirit_PerCapita\n",
      "42 Uzbekistan 101 Spirit_PerCapita\n",
      "43 Italy 237 Wine_PerCapita\n",
      "44 Ecuador 162 Beer_PerCapita\n",
      "45 Belize 263 Beer_PerCapita\n",
      "46 Japan 202 Spirit_PerCapita\n",
      "47 Kazakhstan 246 Spirit_PerCapita\n",
      "48 Moldova 226 Spirit_PerCapita\n",
      "49 Russian Federation 326 Spirit_PerCapita\n",
      "50 Poland 343 Beer_PerCapita\n",
      "51 South Korea 140 Beer_PerCapita\n",
      "52 Bolivia 167 Beer_PerCapita\n",
      "53 Lithuania 343 Beer_PerCapita\n",
      "54 Belarus 373 Spirit_PerCapita\n",
      "55 Slovenia 276 Wine_PerCapita\n",
      "56 Peru 163 Beer_PerCapita\n",
      "57 Turkmenistan 71 Spirit_PerCapita\n",
      "58 Mauritius 98 Beer_PerCapita\n",
      "59 Latvia 281 Beer_PerCapita\n",
      "60 Cyprus 192 Beer_PerCapita\n",
      "61 Paraguay 213 Beer_PerCapita\n",
      "62 Romania 297 Beer_PerCapita\n",
      "63 Estonia 224 Beer_PerCapita\n",
      "64 Jamaica 97 Spirit_PerCapita\n",
      "65 Croatia 254 Wine_PerCapita\n",
      "66 Turkey 51 Beer_PerCapita\n",
      "67 Jordan 21 Spirit_PerCapita\n",
      "68 Azerbaijan 46 Spirit_PerCapita\n",
      "69 Philippines 186 Spirit_PerCapita\n",
      "70 China 192 Spirit_PerCapita\n",
      "71 Kyrgyzstan 97 Spirit_PerCapita\n",
      "72 Serbia 283 Beer_PerCapita\n",
      "73 Bosnia and Herzegovina 173 Spirit_PerCapita\n",
      "74 Montenegro 128 Wine_PerCapita\n",
      "75 Dominican Republic 193 Beer_PerCapita\n",
      "76 Morocco 12 Beer_PerCapita\n",
      "77 Hungary 234 Beer_PerCapita\n",
      "78 Lebanon 55 Spirit_PerCapita\n",
      "79 Portugal 339 Wine_PerCapita\n",
      "80 Macedonia 106 Beer_PerCapita\n",
      "81 Vietnam 111 Beer_PerCapita\n",
      "82 Tunisia 51 Beer_PerCapita\n",
      "83 Greece 218 Wine_PerCapita\n",
      "84 Mongolia 189 Spirit_PerCapita\n",
      "85 Nigeria 42 Beer_PerCapita\n",
      "86 Honduras 98 Spirit_PerCapita\n",
      "87 Zambia 32 Beer_PerCapita\n",
      "88 Albania 132 Spirit_PerCapita\n",
      "89 Sierra Leone 25 Beer_PerCapita\n",
      "90 Namibia 376 Beer_PerCapita\n",
      "91 Cameroon 147 Beer_PerCapita\n",
      "92 South Africa 225 Beer_PerCapita\n",
      "93 Egypt 6 Beer_PerCapita\n",
      "94 Armenia 179 Spirit_PerCapita\n",
      "95 Kenya 58 Beer_PerCapita\n",
      "96 Ukraine 237 Spirit_PerCapita\n",
      "97 Ghana 31 Beer_PerCapita\n",
      "98 Dem. Rep. Congo 32 Beer_PerCapita\n",
      "99 Georgia 149 Wine_PerCapita\n",
      "100 Rep. Congo 76 Beer_PerCapita\n",
      "101 Senegal 9 Beer_PerCapita\n",
      "102 Bulgaria 252 Spirit_PerCapita\n",
      "103 Zimbabwe 64 Beer_PerCapita\n",
      "104 Malawi 11 Spirit_PerCapita\n",
      "105 Gabon 347 Beer_PerCapita\n",
      "106 Mali 5 Beer_PerCapita\n",
      "107 Haiti 326 Spirit_PerCapita\n",
      "108 Botswana 173 Beer_PerCapita\n",
      "109 Comoros 3 Spirit_PerCapita\n",
      "110 Cote d'Ivoire 37 Beer_PerCapita\n",
      "111 Cambodia 65 Spirit_PerCapita\n",
      "112 Angola 217 Beer_PerCapita\n",
      "113 Niger 3 Beer_PerCapita\n",
      "114 Chad 15 Beer_PerCapita\n",
      "115 Burkina Faso 25 Beer_PerCapita\n",
      "116 Madagascar 26 Beer_PerCapita\n",
      "117 Tanzania 36 Beer_PerCapita\n",
      "118 Liberia 152 Spirit_PerCapita\n",
      "119 Benin 34 Beer_PerCapita\n",
      "120 Togo 36 Beer_PerCapita\n",
      "121 Syria 35 Spirit_PerCapita\n"
     ]
    }
   ],
   "source": [
    "for i in alcohol_df.index:\n",
    "    print(i, df.iloc[i][\"Country\"], alcohol_df.iloc[i].max(), alcohol_df.iloc[i].idxmax())"
   ]
  },
  {
   "cell_type": "markdown",
   "id": "2f4d3206-3f7f-494c-949c-7b4682c8662a",
   "metadata": {},
   "source": [
    "بیشترین مقدار الکلی که از یک نوع در هر کشور مصرف شده و نوع آن"
   ]
  },
  {
   "cell_type": "code",
   "execution_count": 24,
   "id": "6954a8f6-b462-4e18-88a3-216e8cee6eff",
   "metadata": {},
   "outputs": [
    {
     "name": "stdout",
     "output_type": "stream",
     "text": [
      "70 37 15\n"
     ]
    }
   ],
   "source": [
    "a = 0\n",
    "b = 0\n",
    "c = 0\n",
    "for i in alcohol_df.index:\n",
    "    if alcohol_df.iloc[i].idxmax() == \"Beer_PerCapita\":\n",
    "        a += 1\n",
    "    elif alcohol_df.iloc[i].idxmax() == \"Spirit_PerCapita\":\n",
    "        b += 1\n",
    "    elif alcohol_df.iloc[i].idxmax() == \"Wine_PerCapita\":\n",
    "        c += 1\n",
    "print(a,b,c)"
   ]
  },
  {
   "cell_type": "markdown",
   "id": "7cb287a0-bb37-4cef-b155-bb6b356490ea",
   "metadata": {},
   "source": [
    "هر نوع الکل چند بار بیشترین مقدار مصرف را در هر کشور داشته و نمودار آن:"
   ]
  },
  {
   "cell_type": "code",
   "execution_count": 36,
   "id": "491c4ae4-4668-47da-9756-91e338d27feb",
   "metadata": {},
   "outputs": [
    {
     "data": {
      "text/plain": [
       "<Axes: xlabel='kind', ylabel='count'>"
      ]
     },
     "execution_count": 36,
     "metadata": {},
     "output_type": "execute_result"
    },
    {
     "data": {
      "image/png": "[encoded data removed]",
      "text/plain": [
       "<Figure size 640x480 with 1 Axes>"
      ]
     },
     "metadata": {},
     "output_type": "display_data"
    }
   ],
   "source": [
    "emp_list = []\n",
    "for i in alcohol_df.index:\n",
    "    if alcohol_df.iloc[i].idxmax() == \"Beer_PerCapita\":\n",
    "        emp_list.append(alcohol_df.iloc[i].idxmax())\n",
    "    elif alcohol_df.iloc[i].idxmax() == \"Spirit_PerCapita\":\n",
    "        emp_list.append(alcohol_df.iloc[i].idxmax())\n",
    "    elif alcohol_df.iloc[i].idxmax() == \"Wine_PerCapita\":\n",
    "        emp_list.append(alcohol_df.iloc[i].idxmax())\n",
    "        \n",
    "count_df = pd.DataFrame()\n",
    "count_df[\"kind\"] = emp_list\n",
    "sns.countplot(x=dataframe[\"kind\"], data=count_df)"
   ]
  },
  {
   "cell_type": "code",
   "execution_count": 16,
   "id": "818cdc9d-dec3-456d-ac90-5b8406156cf7",
   "metadata": {},
   "outputs": [
    {
     "name": "stdout",
     "output_type": "stream",
     "text": [
      "56 Syria 3.069\n",
      "57 Togo 3.303\n",
      "51 Benin 3.484\n",
      "173 Liberia 3.622\n",
      "43 Tanzania 3.666\n",
      "45 Madagascar 3.695\n",
      "39 Burkina Faso 3.739\n",
      "17 Chad 3.763\n",
      "6 Niger 3.856\n",
      "319 Angola 3.866\n"
     ]
    }
   ],
   "source": [
    "j = 0\n",
    "for i in df.sort_values(by=[\"HappinessScore\"]).index:\n",
    "    j = j + 1\n",
    "    if j <= 10:\n",
    "        print(a_df.iloc[i][\"alcohol\"], a_df.iloc[i][\"country\"], df.sort_values(by=[\"HappinessScore\"], ascending=False).iloc[i][\"HappinessScore\"])\n",
    "    else:\n",
    "        break"
   ]
  },
  {
   "cell_type": "markdown",
   "id": "4e861c0b-44a5-4c87-bba9-96ca2dc8cfd2",
   "metadata": {},
   "source": [
    "total alcohol, country, HappinessScore\n",
    "\n",
    "shows the 10 bottom countries sorted by happiness score and their total alcohol consumption"
   ]
  },
  {
   "cell_type": "code",
   "execution_count": 19,
   "id": "e57520f3-e975-4057-b20f-1cc0d9490eee",
   "metadata": {},
   "outputs": [
    {
     "name": "stdout",
     "output_type": "stream",
     "text": [
      "583 Denmark 7.526\n",
      "565 Switzerland 7.509\n",
      "372 Iceland 7.501\n",
      "369 Norway 7.498\n",
      "493 Finland 7.413\n",
      "462 Canada 7.404\n",
      "529 Netherlands 7.339\n",
      "457 New Zealand 7.334\n",
      "545 Australia 7.313\n",
      "398 Sweden 7.291\n"
     ]
    }
   ],
   "source": [
    "j = 0\n",
    "for i in df.sort_values(by=[\"HappinessScore\"], ascending=False).index:\n",
    "    j = j + 1\n",
    "    if j <= 10:\n",
    "        print(a_df.iloc[i][\"alcohol\"], a_df.iloc[i][\"country\"], df.sort_values(by=[\"HappinessScore\"], ascending=False).iloc[i][\"HappinessScore\"])\n",
    "    else:\n",
    "        break"
   ]
  },
  {
   "cell_type": "markdown",
   "id": "5957c7d1-f759-45a2-9fd2-7737d74b9ae5",
   "metadata": {},
   "source": [
    "total alcohol, country, HappinessScore\n",
    "\n",
    "shows the 10 top countries sorted by happiness score and their total alcohol consumption"
   ]
  },
  {
   "cell_type": "code",
   "execution_count": 43,
   "id": "71b8eba0-b364-4b66-bed7-49e2a9c496d9",
   "metadata": {},
   "outputs": [
    {
     "data": {
      "text/plain": [
       "<Axes: xlabel='count', ylabel='Hemisphere'>"
      ]
     },
     "execution_count": 43,
     "metadata": {},
     "output_type": "execute_result"
    },
    {
     "data": {
      "image/png": "[encoded data removed]",
      "text/plain": [
       "<Figure size 640x480 with 1 Axes>"
      ]
     },
     "metadata": {},
     "output_type": "display_data"
    }
   ],
   "source": [
    "sns.countplot(df[\"Hemisphere\"])"
   ]
  },
  {
   "cell_type": "markdown",
   "id": "e525e545-e680-4c56-ad24-b8bce258bf98",
   "metadata": {},
   "source": [
    "تعداد کشورهای هر نیمکره که در این دیتاست آمده اند\n",
    "\n",
    "کشورهای نیمکره ی شمالی بیشتر در این دیتاست وجود دارند"
   ]
  },
  {
   "cell_type": "code",
   "execution_count": 58,
   "id": "5bad2a1f-4588-43ae-9a02-a851e250dee4",
   "metadata": {},
   "outputs": [
    {
     "data": {
      "application/vnd.plotly.v1+json": {
       "config": {
        "plotlyServerURL": "https://plot.ly"
       },
       "data": [
        {
         "alignmentgroup": "True",
         "hovertemplate": "variable=Beer_PerCapita<br>Hemisphere=%{x}<br>value=%{y}<extra></extra>",
         "legendgroup": "Beer_PerCapita",
         "marker": {
          "color": "#636efa",
          "pattern": {
           "shape": ""
          }
         },
         "name": "Beer_PerCapita",
         "offsetgroup": "Beer_PerCapita",
         "orientation": "v",
         "showlegend": true,
         "textposition": "auto",
         "type": "bar",
         "x": [
          "north",
          "north",
          "north",
          "north",
          "north",
          "north",
          "north",
          "south",
          "south",
          "north",
          "north",
          "north",
          "north",
          "north",
          "north",
          "both",
          "north",
          "north",
          "north",
          "north",
          "north",
          "north",
          "south",
          "north",
          "south",
          "north",
          "north",
          "south",
          "north",
          "both",
          "north",
          "north",
          "north",
          "north",
          "north",
          "north",
          "north",
          "north",
          "north",
          "north",
          "north",
          "north",
          "north",
          "north",
          "both",
          "north",
          "noth",
          "north",
          "north",
          "north",
          "north",
          "noth",
          "south",
          "north",
          "north",
          "north",
          "both",
          "north",
          "north",
          "north",
          "north",
          "south",
          "north",
          "north",
          "north",
          "north",
          "north",
          "north",
          "north",
          "north",
          "noth",
          "north",
          "north",
          "north",
          "north",
          "north",
          "north",
          "north",
          "north",
          "north",
          "north",
          "north",
          "north",
          "north",
          "noth",
          "north",
          "north",
          "south",
          "north",
          "north",
          "south",
          "south",
          "south",
          "north",
          "north",
          "both",
          "north",
          "north",
          "south",
          "north",
          "south",
          "north",
          "north",
          "south",
          "south",
          "south",
          "north",
          "north",
          "south",
          "south",
          "north",
          "north",
          "south",
          "north",
          "north",
          "north",
          "south",
          "south",
          "north",
          "north",
          "north",
          "north"
         ],
         "xaxis": "x",
         "y": [
          224,
          185,
          233,
          169,
          263,
          240,
          251,
          203,
          261,
          152,
          63,
          279,
          249,
          149,
          346,
          245,
          295,
          313,
          236,
          238,
          60,
          219,
          130,
          285,
          193,
          361,
          16,
          115,
          149,
          159,
          127,
          99,
          1,
          284,
          53,
          128,
          42,
          197,
          333,
          196,
          52,
          78,
          25,
          85,
          162,
          263,
          77,
          124,
          109,
          247,
          343,
          140,
          167,
          343,
          142,
          270,
          163,
          19,
          98,
          281,
          192,
          213,
          297,
          224,
          82,
          230,
          51,
          6,
          21,
          71,
          79,
          31,
          283,
          76,
          31,
          193,
          12,
          234,
          20,
          194,
          106,
          111,
          51,
          133,
          77,
          42,
          69,
          32,
          89,
          25,
          376,
          147,
          225,
          6,
          21,
          58,
          206,
          31,
          32,
          52,
          76,
          9,
          231,
          64,
          8,
          347,
          5,
          1,
          173,
          1,
          37,
          57,
          217,
          3,
          15,
          25,
          26,
          36,
          19,
          34,
          36,
          5
         ],
         "yaxis": "y"
        },
        {
         "alignmentgroup": "True",
         "hovertemplate": "variable=Spirit_PerCapita<br>Hemisphere=%{x}<br>value=%{y}<extra></extra>",
         "legendgroup": "Spirit_PerCapita",
         "marker": {
          "color": "#EF553B",
          "pattern": {
           "shape": ""
          }
         },
         "name": "Spirit_PerCapita",
         "offsetgroup": "Spirit_PerCapita",
         "orientation": "v",
         "showlegend": true,
         "textposition": "auto",
         "type": "bar",
         "x": [
          "north",
          "north",
          "north",
          "north",
          "north",
          "north",
          "north",
          "south",
          "south",
          "north",
          "north",
          "north",
          "north",
          "north",
          "north",
          "both",
          "north",
          "north",
          "north",
          "north",
          "north",
          "north",
          "south",
          "north",
          "south",
          "north",
          "north",
          "south",
          "north",
          "both",
          "north",
          "north",
          "north",
          "north",
          "north",
          "north",
          "north",
          "north",
          "north",
          "north",
          "north",
          "north",
          "north",
          "north",
          "both",
          "north",
          "noth",
          "north",
          "north",
          "north",
          "north",
          "noth",
          "south",
          "north",
          "north",
          "north",
          "both",
          "north",
          "north",
          "north",
          "north",
          "south",
          "north",
          "north",
          "north",
          "north",
          "north",
          "north",
          "north",
          "north",
          "noth",
          "north",
          "north",
          "north",
          "north",
          "north",
          "north",
          "north",
          "north",
          "north",
          "north",
          "north",
          "north",
          "north",
          "noth",
          "north",
          "north",
          "south",
          "north",
          "north",
          "south",
          "south",
          "south",
          "north",
          "north",
          "both",
          "north",
          "north",
          "south",
          "north",
          "south",
          "north",
          "north",
          "south",
          "south",
          "south",
          "north",
          "north",
          "south",
          "south",
          "north",
          "north",
          "south",
          "north",
          "north",
          "north",
          "south",
          "south",
          "north",
          "north",
          "north",
          "north"
         ],
         "xaxis": "x",
         "y": [
          81,
          100,
          61,
          71,
          133,
          122,
          88,
          79,
          72,
          60,
          69,
          75,
          158,
          87,
          117,
          145,
          84,
          118,
          133,
          68,
          12,
          126,
          124,
          104,
          25,
          170,
          135,
          35,
          100,
          76,
          151,
          258,
          42,
          157,
          69,
          178,
          63,
          156,
          100,
          293,
          69,
          118,
          101,
          42,
          74,
          114,
          202,
          246,
          226,
          326,
          215,
          16,
          41,
          244,
          373,
          51,
          160,
          71,
          31,
          216,
          154,
          117,
          122,
          194,
          97,
          87,
          22,
          21,
          46,
          186,
          192,
          97,
          131,
          173,
          114,
          147,
          6,
          215,
          55,
          67,
          27,
          2,
          3,
          112,
          189,
          5,
          98,
          19,
          132,
          3,
          3,
          1,
          76,
          4,
          179,
          22,
          237,
          3,
          3,
          100,
          1,
          1,
          252,
          18,
          11,
          98,
          1,
          326,
          35,
          3,
          1,
          65,
          57,
          2,
          1,
          7,
          15,
          6,
          152,
          4,
          2,
          35
         ],
         "yaxis": "y"
        },
        {
         "alignmentgroup": "True",
         "hovertemplate": "variable=Wine_PerCapita<br>Hemisphere=%{x}<br>value=%{y}<extra></extra>",
         "legendgroup": "Wine_PerCapita",
         "marker": {
          "color": "#00cc96",
          "pattern": {
           "shape": ""
          }
         },
         "name": "Wine_PerCapita",
         "offsetgroup": "Wine_PerCapita",
         "orientation": "v",
         "showlegend": true,
         "textposition": "auto",
         "type": "bar",
         "x": [
          "north",
          "north",
          "north",
          "north",
          "north",
          "north",
          "north",
          "south",
          "south",
          "north",
          "north",
          "north",
          "north",
          "north",
          "north",
          "both",
          "north",
          "north",
          "north",
          "north",
          "north",
          "north",
          "south",
          "north",
          "south",
          "north",
          "north",
          "south",
          "north",
          "both",
          "north",
          "north",
          "north",
          "north",
          "north",
          "north",
          "north",
          "north",
          "north",
          "north",
          "north",
          "north",
          "north",
          "north",
          "both",
          "north",
          "noth",
          "north",
          "north",
          "north",
          "north",
          "noth",
          "south",
          "north",
          "north",
          "north",
          "both",
          "north",
          "north",
          "north",
          "north",
          "south",
          "north",
          "north",
          "north",
          "north",
          "north",
          "north",
          "north",
          "north",
          "noth",
          "north",
          "north",
          "north",
          "north",
          "north",
          "north",
          "north",
          "north",
          "north",
          "north",
          "north",
          "north",
          "north",
          "noth",
          "north",
          "north",
          "south",
          "north",
          "north",
          "south",
          "south",
          "south",
          "north",
          "north",
          "both",
          "north",
          "north",
          "south",
          "north",
          "south",
          "north",
          "north",
          "south",
          "south",
          "south",
          "north",
          "north",
          "south",
          "south",
          "north",
          "north",
          "south",
          "north",
          "north",
          "north",
          "south",
          "south",
          "north",
          "north",
          "north",
          "north"
         ],
         "xaxis": "x",
         "y": [
          278,
          280,
          78,
          129,
          97,
          100,
          190,
          175,
          212,
          186,
          9,
          191,
          84,
          11,
          175,
          16,
          212,
          165,
          271,
          5,
          11,
          195,
          172,
          18,
          221,
          134,
          5,
          220,
          120,
          3,
          370,
          1,
          7,
          112,
          2,
          7,
          7,
          7,
          3,
          116,
          2,
          1,
          8,
          237,
          3,
          8,
          16,
          12,
          18,
          73,
          56,
          9,
          8,
          56,
          42,
          276,
          21,
          32,
          18,
          62,
          113,
          74,
          167,
          59,
          9,
          254,
          7,
          1,
          5,
          1,
          8,
          6,
          127,
          8,
          128,
          9,
          10,
          185,
          31,
          339,
          86,
          1,
          20,
          218,
          8,
          2,
          2,
          4,
          54,
          2,
          1,
          4,
          81,
          1,
          11,
          2,
          45,
          10,
          1,
          149,
          9,
          7,
          94,
          4,
          1,
          59,
          1,
          1,
          35,
          1,
          7,
          1,
          45,
          1,
          1,
          7,
          4,
          1,
          2,
          13,
          19,
          16
         ],
         "yaxis": "y"
        }
       ],
       "layout": {
        "barmode": "group",
        "height": 600,
        "legend": {
         "title": {
          "text": "variable"
         },
         "tracegroupgap": 0
        },
        "template": {
         "data": {
          "bar": [
           {
            "error_x": {
             "color": "#2a3f5f"
            },
            "error_y": {
             "color": "#2a3f5f"
            },
            "marker": {
             "line": {
              "color": "#E5ECF6",
              "width": 0.5
             },
             "pattern": {
              "fillmode": "overlay",
              "size": 10,
              "solidity": 0.2
             }
            },
            "type": "bar"
           }
          ],
          "barpolar": [
           {
            "marker": {
             "line": {
              "color": "#E5ECF6",
              "width": 0.5
             },
             "pattern": {
              "fillmode": "overlay",
              "size": 10,
              "solidity": 0.2
             }
            },
            "type": "barpolar"
           }
          ],
          "carpet": [
           {
            "aaxis": {
             "endlinecolor": "#2a3f5f",
             "gridcolor": "white",
             "linecolor": "white",
             "minorgridcolor": "white",
             "startlinecolor": "#2a3f5f"
            },
            "baxis": {
             "endlinecolor": "#2a3f5f",
             "gridcolor": "white",
             "linecolor": "white",
             "minorgridcolor": "white",
             "startlinecolor": "#2a3f5f"
            },
            "type": "carpet"
           }
          ],
          "choropleth": [
           {
            "colorbar": {
             "outlinewidth": 0,
             "ticks": ""
            },
            "type": "choropleth"
           }
          ],
          "contour": [
           {
            "colorbar": {
             "outlinewidth": 0,
             "ticks": ""
            },
            "colorscale": [
             [
              0,
              "#0d0887"
             ],
             [
              0.1111111111111111,
              "#46039f"
             ],
             [
              0.2222222222222222,
              "#7201a8"
             ],
             [
              0.3333333333333333,
              "#9c179e"
             ],
             [
              0.4444444444444444,
              "#bd3786"
             ],
             [
              0.5555555555555556,
              "#d8576b"
             ],
             [
              0.6666666666666666,
              "#ed7953"
             ],
             [
              0.7777777777777778,
              "#fb9f3a"
             ],
             [
              0.8888888888888888,
              "#fdca26"
             ],
             [
              1,
              "#f0f921"
             ]
            ],
            "type": "contour"
           }
          ],
          "contourcarpet": [
           {
            "colorbar": {
             "outlinewidth": 0,
             "ticks": ""
            },
            "type": "contourcarpet"
           }
          ],
          "heatmap": [
           {
            "colorbar": {
             "outlinewidth": 0,
             "ticks": ""
            },
            "colorscale": [
             [
              0,
              "#0d0887"
             ],
             [
              0.1111111111111111,
              "#46039f"
             ],
             [
              0.2222222222222222,
              "#7201a8"
             ],
             [
              0.3333333333333333,
              "#9c179e"
             ],
             [
              0.4444444444444444,
              "#bd3786"
             ],
             [
              0.5555555555555556,
              "#d8576b"
             ],
             [
              0.6666666666666666,
              "#ed7953"
             ],
             [
              0.7777777777777778,
              "#fb9f3a"
             ],
             [
              0.8888888888888888,
              "#fdca26"
             ],
             [
              1,
              "#f0f921"
             ]
            ],
            "type": "heatmap"
           }
          ],
          "heatmapgl": [
           {
            "colorbar": {
             "outlinewidth": 0,
             "ticks": ""
            },
            "colorscale": [
             [
              0,
              "#0d0887"
             ],
             [
              0.1111111111111111,
              "#46039f"
             ],
             [
              0.2222222222222222,
              "#7201a8"
             ],
             [
              0.3333333333333333,
              "#9c179e"
             ],
             [
              0.4444444444444444,
              "#bd3786"
             ],
             [
              0.5555555555555556,
              "#d8576b"
             ],
             [
              0.6666666666666666,
              "#ed7953"
             ],
             [
              0.7777777777777778,
              "#fb9f3a"
             ],
             [
              0.8888888888888888,
              "#fdca26"
             ],
             [
              1,
              "#f0f921"
             ]
            ],
            "type": "heatmapgl"
           }
          ],
          "histogram": [
           {
            "marker": {
             "pattern": {
              "fillmode": "overlay",
              "size": 10,
              "solidity": 0.2
             }
            },
            "type": "histogram"
           }
          ],
          "histogram2d": [
           {
            "colorbar": {
             "outlinewidth": 0,
             "ticks": ""
            },
            "colorscale": [
             [
              0,
              "#0d0887"
             ],
             [
              0.1111111111111111,
              "#46039f"
             ],
             [
              0.2222222222222222,
              "#7201a8"
             ],
             [
              0.3333333333333333,
              "#9c179e"
             ],
             [
              0.4444444444444444,
              "#bd3786"
             ],
             [
              0.5555555555555556,
              "#d8576b"
             ],
             [
              0.6666666666666666,
              "#ed7953"
             ],
             [
              0.7777777777777778,
              "#fb9f3a"
             ],
             [
              0.8888888888888888,
              "#fdca26"
             ],
             [
              1,
              "#f0f921"
             ]
            ],
            "type": "histogram2d"
           }
          ],
          "histogram2dcontour": [
           {
            "colorbar": {
             "outlinewidth": 0,
             "ticks": ""
            },
            "colorscale": [
             [
              0,
              "#0d0887"
             ],
             [
              0.1111111111111111,
              "#46039f"
             ],
             [
              0.2222222222222222,
              "#7201a8"
             ],
             [
              0.3333333333333333,
              "#9c179e"
             ],
             [
              0.4444444444444444,
              "#bd3786"
             ],
             [
              0.5555555555555556,
              "#d8576b"
             ],
             [
              0.6666666666666666,
              "#ed7953"
             ],
             [
              0.7777777777777778,
              "#fb9f3a"
             ],
             [
              0.8888888888888888,
              "#fdca26"
             ],
             [
              1,
              "#f0f921"
             ]
            ],
            "type": "histogram2dcontour"
           }
          ],
          "mesh3d": [
           {
            "colorbar": {
             "outlinewidth": 0,
             "ticks": ""
            },
            "type": "mesh3d"
           }
          ],
          "parcoords": [
           {
            "line": {
             "colorbar": {
              "outlinewidth": 0,
              "ticks": ""
             }
            },
            "type": "parcoords"
           }
          ],
          "pie": [
           {
            "automargin": true,
            "type": "pie"
           }
          ],
          "scatter": [
           {
            "fillpattern": {
             "fillmode": "overlay",
             "size": 10,
             "solidity": 0.2
            },
            "type": "scatter"
           }
          ],
          "scatter3d": [
           {
            "line": {
             "colorbar": {
              "outlinewidth": 0,
              "ticks": ""
             }
            },
            "marker": {
             "colorbar": {
              "outlinewidth": 0,
              "ticks": ""
             }
            },
            "type": "scatter3d"
           }
          ],
          "scattercarpet": [
           {
            "marker": {
             "colorbar": {
              "outlinewidth": 0,
              "ticks": ""
             }
            },
            "type": "scattercarpet"
           }
          ],
          "scattergeo": [
           {
            "marker": {
             "colorbar": {
              "outlinewidth": 0,
              "ticks": ""
             }
            },
            "type": "scattergeo"
           }
          ],
          "scattergl": [
           {
            "marker": {
             "colorbar": {
              "outlinewidth": 0,
              "ticks": ""
             }
            },
            "type": "scattergl"
           }
          ],
          "scattermapbox": [
           {
            "marker": {
             "colorbar": {
              "outlinewidth": 0,
              "ticks": ""
             }
            },
            "type": "scattermapbox"
           }
          ],
          "scatterpolar": [
           {
            "marker": {
             "colorbar": {
              "outlinewidth": 0,
              "ticks": ""
             }
            },
            "type": "scatterpolar"
           }
          ],
          "scatterpolargl": [
           {
            "marker": {
             "colorbar": {
              "outlinewidth": 0,
              "ticks": ""
             }
            },
            "type": "scatterpolargl"
           }
          ],
          "scatterternary": [
           {
            "marker": {
             "colorbar": {
              "outlinewidth": 0,
              "ticks": ""
             }
            },
            "type": "scatterternary"
           }
          ],
          "surface": [
           {
            "colorbar": {
             "outlinewidth": 0,
             "ticks": ""
            },
            "colorscale": [
             [
              0,
              "#0d0887"
             ],
             [
              0.1111111111111111,
              "#46039f"
             ],
             [
              0.2222222222222222,
              "#7201a8"
             ],
             [
              0.3333333333333333,
              "#9c179e"
             ],
             [
              0.4444444444444444,
              "#bd3786"
             ],
             [
              0.5555555555555556,
              "#d8576b"
             ],
             [
              0.6666666666666666,
              "#ed7953"
             ],
             [
              0.7777777777777778,
              "#fb9f3a"
             ],
             [
              0.8888888888888888,
              "#fdca26"
             ],
             [
              1,
              "#f0f921"
             ]
            ],
            "type": "surface"
           }
          ],
          "table": [
           {
            "cells": {
             "fill": {
              "color": "#EBF0F8"
             },
             "line": {
              "color": "white"
             }
            },
            "header": {
             "fill": {
              "color": "#C8D4E3"
             },
             "line": {
              "color": "white"
             }
            },
            "type": "table"
           }
          ]
         },
         "layout": {
          "annotationdefaults": {
           "arrowcolor": "#2a3f5f",
           "arrowhead": 0,
           "arrowwidth": 1
          },
          "autotypenumbers": "strict",
          "coloraxis": {
           "colorbar": {
            "outlinewidth": 0,
            "ticks": ""
           }
          },
          "colorscale": {
           "diverging": [
            [
             0,
             "#8e0152"
            ],
            [
             0.1,
             "#c51b7d"
            ],
            [
             0.2,
             "#de77ae"
            ],
            [
             0.3,
             "#f1b6da"
            ],
            [
             0.4,
             "#fde0ef"
            ],
            [
             0.5,
             "#f7f7f7"
            ],
            [
             0.6,
             "#e6f5d0"
            ],
            [
             0.7,
             "#b8e186"
            ],
            [
             0.8,
             "#7fbc41"
            ],
            [
             0.9,
             "#4d9221"
            ],
            [
             1,
             "#276419"
            ]
           ],
           "sequential": [
            [
             0,
             "#0d0887"
            ],
            [
             0.1111111111111111,
             "#46039f"
            ],
            [
             0.2222222222222222,
             "#7201a8"
            ],
            [
             0.3333333333333333,
             "#9c179e"
            ],
            [
             0.4444444444444444,
             "#bd3786"
            ],
            [
             0.5555555555555556,
             "#d8576b"
            ],
            [
             0.6666666666666666,
             "#ed7953"
            ],
            [
             0.7777777777777778,
             "#fb9f3a"
            ],
            [
             0.8888888888888888,
             "#fdca26"
            ],
            [
             1,
             "#f0f921"
            ]
           ],
           "sequentialminus": [
            [
             0,
             "#0d0887"
            ],
            [
             0.1111111111111111,
             "#46039f"
            ],
            [
             0.2222222222222222,
             "#7201a8"
            ],
            [
             0.3333333333333333,
             "#9c179e"
            ],
            [
             0.4444444444444444,
             "#bd3786"
            ],
            [
             0.5555555555555556,
             "#d8576b"
            ],
            [
             0.6666666666666666,
             "#ed7953"
            ],
            [
             0.7777777777777778,
             "#fb9f3a"
            ],
            [
             0.8888888888888888,
             "#fdca26"
            ],
            [
             1,
             "#f0f921"
            ]
           ]
          },
          "colorway": [
           "#636efa",
           "#EF553B",
           "#00cc96",
           "#ab63fa",
           "#FFA15A",
           "#19d3f3",
           "#FF6692",
           "#B6E880",
           "#FF97FF",
           "#FECB52"
          ],
          "font": {
           "color": "#2a3f5f"
          },
          "geo": {
           "bgcolor": "white",
           "lakecolor": "white",
           "landcolor": "#E5ECF6",
           "showlakes": true,
           "showland": true,
           "subunitcolor": "white"
          },
          "hoverlabel": {
           "align": "left"
          },
          "hovermode": "closest",
          "mapbox": {
           "style": "light"
          },
          "paper_bgcolor": "white",
          "plot_bgcolor": "#E5ECF6",
          "polar": {
           "angularaxis": {
            "gridcolor": "white",
            "linecolor": "white",
            "ticks": ""
           },
           "bgcolor": "#E5ECF6",
           "radialaxis": {
            "gridcolor": "white",
            "linecolor": "white",
            "ticks": ""
           }
          },
          "scene": {
           "xaxis": {
            "backgroundcolor": "#E5ECF6",
            "gridcolor": "white",
            "gridwidth": 2,
            "linecolor": "white",
            "showbackground": true,
            "ticks": "",
            "zerolinecolor": "white"
           },
           "yaxis": {
            "backgroundcolor": "#E5ECF6",
            "gridcolor": "white",
            "gridwidth": 2,
            "linecolor": "white",
            "showbackground": true,
            "ticks": "",
            "zerolinecolor": "white"
           },
           "zaxis": {
            "backgroundcolor": "#E5ECF6",
            "gridcolor": "white",
            "gridwidth": 2,
            "linecolor": "white",
            "showbackground": true,
            "ticks": "",
            "zerolinecolor": "white"
           }
          },
          "shapedefaults": {
           "line": {
            "color": "#2a3f5f"
           }
          },
          "ternary": {
           "aaxis": {
            "gridcolor": "white",
            "linecolor": "white",
            "ticks": ""
           },
           "baxis": {
            "gridcolor": "white",
            "linecolor": "white",
            "ticks": ""
           },
           "bgcolor": "#E5ECF6",
           "caxis": {
            "gridcolor": "white",
            "linecolor": "white",
            "ticks": ""
           }
          },
          "title": {
           "x": 0.05
          },
          "xaxis": {
           "automargin": true,
           "gridcolor": "white",
           "linecolor": "white",
           "ticks": "",
           "title": {
            "standoff": 15
           },
           "zerolinecolor": "white",
           "zerolinewidth": 2
          },
          "yaxis": {
           "automargin": true,
           "gridcolor": "white",
           "linecolor": "white",
           "ticks": "",
           "title": {
            "standoff": 15
           },
           "zerolinecolor": "white",
           "zerolinewidth": 2
          }
         }
        },
        "title": {
         "font": {
          "size": 24
         },
         "text": "total alcohol consumption by Hemisphere"
        },
        "width": 800,
        "xaxis": {
         "anchor": "y",
         "autorange": true,
         "domain": [
          0,
          1
         ],
         "range": [
          -0.5,
          3.5
         ],
         "showgrid": true,
         "showspikes": false,
         "title": {
          "text": "Hemisphere"
         },
         "type": "category"
        },
        "yaxis": {
         "anchor": "x",
         "autorange": true,
         "domain": [
          0,
          1
         ],
         "range": [
          0,
          13243.157894736842
         ],
         "showspikes": false,
         "title": {
          "text": "value"
         },
         "type": "linear"
        }
       }
      },
      "image/png": "[encoded data removed]",
      "text/html": [
       "<div>                            <div id=\"82162519-7e77-4721-a173-41f5c9417705\" class=\"plotly-graph-div\" style=\"height:600px; width:800px;\"></div>            <script type=\"text/javascript\">                require([\"plotly\"], function(Plotly) {                    window.PLOTLYENV=window.PLOTLYENV || {};                                    if (document.getElementById(\"82162519-7e77-4721-a173-41f5c9417705\")) {                    Plotly.newPlot(                        \"82162519-7e77-4721-a173-41f5c9417705\",                        [{\"alignmentgroup\":\"True\",\"hovertemplate\":\"variable=Beer_PerCapita\\u003cbr\\u003eHemisphere=%{x}\\u003cbr\\u003evalue=%{y}\\u003cextra\\u003e\\u003c\\u002fextra\\u003e\",\"legendgroup\":\"Beer_PerCapita\",\"marker\":{\"color\":\"#636efa\",\"pattern\":{\"shape\":\"\"}},\"name\":\"Beer_PerCapita\",\"offsetgroup\":\"Beer_PerCapita\",\"orientation\":\"v\",\"showlegend\":true,\"textposition\":\"auto\",\"x\":[\"north\",\"north\",\"north\",\"north\",\"north\",\"north\",\"north\",\"south\",\"south\",\"north\",\"north\",\"north\",\"north\",\"north\",\"north\",\"both\",\"north\",\"north\",\"north\",\"north\",\"north\",\"north\",\"south\",\"north\",\"south\",\"north\",\"north\",\"south\",\"north\",\"both\",\"north\",\"north\",\"north\",\"north\",\"north\",\"north\",\"north\",\"north\",\"north\",\"north\",\"north\",\"north\",\"north\",\"north\",\"both\",\"north\",\"noth\",\"north\",\"north\",\"north\",\"north\",\"noth\",\"south\",\"north\",\"north\",\"north\",\"both\",\"north\",\"north\",\"north\",\"north\",\"south\",\"north\",\"north\",\"north\",\"north\",\"north\",\"north\",\"north\",\"north\",\"noth\",\"north\",\"north\",\"north\",\"north\",\"north\",\"north\",\"north\",\"north\",\"north\",\"north\",\"north\",\"north\",\"north\",\"noth\",\"north\",\"north\",\"south\",\"north\",\"north\",\"south\",\"south\",\"south\",\"north\",\"north\",\"both\",\"north\",\"north\",\"south\",\"north\",\"south\",\"north\",\"north\",\"south\",\"south\",\"south\",\"north\",\"north\",\"south\",\"south\",\"north\",\"north\",\"south\",\"north\",\"north\",\"north\",\"south\",\"south\",\"north\",\"north\",\"north\",\"north\"],\"xaxis\":\"x\",\"y\":[224,185,233,169,263,240,251,203,261,152,63,279,249,149,346,245,295,313,236,238,60,219,130,285,193,361,16,115,149,159,127,99,1,284,53,128,42,197,333,196,52,78,25,85,162,263,77,124,109,247,343,140,167,343,142,270,163,19,98,281,192,213,297,224,82,230,51,6,21,71,79,31,283,76,31,193,12,234,20,194,106,111,51,133,77,42,69,32,89,25,376,147,225,6,21,58,206,31,32,52,76,9,231,64,8,347,5,1,173,1,37,57,217,3,15,25,26,36,19,34,36,5],\"yaxis\":\"y\",\"type\":\"bar\"},{\"alignmentgroup\":\"True\",\"hovertemplate\":\"variable=Spirit_PerCapita\\u003cbr\\u003eHemisphere=%{x}\\u003cbr\\u003evalue=%{y}\\u003cextra\\u003e\\u003c\\u002fextra\\u003e\",\"legendgroup\":\"Spirit_PerCapita\",\"marker\":{\"color\":\"#EF553B\",\"pattern\":{\"shape\":\"\"}},\"name\":\"Spirit_PerCapita\",\"offsetgroup\":\"Spirit_PerCapita\",\"orientation\":\"v\",\"showlegend\":true,\"textposition\":\"auto\",\"x\":[\"north\",\"north\",\"north\",\"north\",\"north\",\"north\",\"north\",\"south\",\"south\",\"north\",\"north\",\"north\",\"north\",\"north\",\"north\",\"both\",\"north\",\"north\",\"north\",\"north\",\"north\",\"north\",\"south\",\"north\",\"south\",\"north\",\"north\",\"south\",\"north\",\"both\",\"north\",\"north\",\"north\",\"north\",\"north\",\"north\",\"north\",\"north\",\"north\",\"north\",\"north\",\"north\",\"north\",\"north\",\"both\",\"north\",\"noth\",\"north\",\"north\",\"north\",\"north\",\"noth\",\"south\",\"north\",\"north\",\"north\",\"both\",\"north\",\"north\",\"north\",\"north\",\"south\",\"north\",\"north\",\"north\",\"north\",\"north\",\"north\",\"north\",\"north\",\"noth\",\"north\",\"north\",\"north\",\"north\",\"north\",\"north\",\"north\",\"north\",\"north\",\"north\",\"north\",\"north\",\"north\",\"noth\",\"north\",\"north\",\"south\",\"north\",\"north\",\"south\",\"south\",\"south\",\"north\",\"north\",\"both\",\"north\",\"north\",\"south\",\"north\",\"south\",\"north\",\"north\",\"south\",\"south\",\"south\",\"north\",\"north\",\"south\",\"south\",\"north\",\"north\",\"south\",\"north\",\"north\",\"north\",\"south\",\"south\",\"north\",\"north\",\"north\",\"north\"],\"xaxis\":\"x\",\"y\":[81,100,61,71,133,122,88,79,72,60,69,75,158,87,117,145,84,118,133,68,12,126,124,104,25,170,135,35,100,76,151,258,42,157,69,178,63,156,100,293,69,118,101,42,74,114,202,246,226,326,215,16,41,244,373,51,160,71,31,216,154,117,122,194,97,87,22,21,46,186,192,97,131,173,114,147,6,215,55,67,27,2,3,112,189,5,98,19,132,3,3,1,76,4,179,22,237,3,3,100,1,1,252,18,11,98,1,326,35,3,1,65,57,2,1,7,15,6,152,4,2,35],\"yaxis\":\"y\",\"type\":\"bar\"},{\"alignmentgroup\":\"True\",\"hovertemplate\":\"variable=Wine_PerCapita\\u003cbr\\u003eHemisphere=%{x}\\u003cbr\\u003evalue=%{y}\\u003cextra\\u003e\\u003c\\u002fextra\\u003e\",\"legendgroup\":\"Wine_PerCapita\",\"marker\":{\"color\":\"#00cc96\",\"pattern\":{\"shape\":\"\"}},\"name\":\"Wine_PerCapita\",\"offsetgroup\":\"Wine_PerCapita\",\"orientation\":\"v\",\"showlegend\":true,\"textposition\":\"auto\",\"x\":[\"north\",\"north\",\"north\",\"north\",\"north\",\"north\",\"north\",\"south\",\"south\",\"north\",\"north\",\"north\",\"north\",\"north\",\"north\",\"both\",\"north\",\"north\",\"north\",\"north\",\"north\",\"north\",\"south\",\"north\",\"south\",\"north\",\"north\",\"south\",\"north\",\"both\",\"north\",\"north\",\"north\",\"north\",\"north\",\"north\",\"north\",\"north\",\"north\",\"north\",\"north\",\"north\",\"north\",\"north\",\"both\",\"north\",\"noth\",\"north\",\"north\",\"north\",\"north\",\"noth\",\"south\",\"north\",\"north\",\"north\",\"both\",\"north\",\"north\",\"north\",\"north\",\"south\",\"north\",\"north\",\"north\",\"north\",\"north\",\"north\",\"north\",\"north\",\"noth\",\"north\",\"north\",\"north\",\"north\",\"north\",\"north\",\"north\",\"north\",\"north\",\"north\",\"north\",\"north\",\"north\",\"noth\",\"north\",\"north\",\"south\",\"north\",\"north\",\"south\",\"south\",\"south\",\"north\",\"north\",\"both\",\"north\",\"north\",\"south\",\"north\",\"south\",\"north\",\"north\",\"south\",\"south\",\"south\",\"north\",\"north\",\"south\",\"south\",\"north\",\"north\",\"south\",\"north\",\"north\",\"north\",\"south\",\"south\",\"north\",\"north\",\"north\",\"north\"],\"xaxis\":\"x\",\"y\":[278,280,78,129,97,100,190,175,212,186,9,191,84,11,175,16,212,165,271,5,11,195,172,18,221,134,5,220,120,3,370,1,7,112,2,7,7,7,3,116,2,1,8,237,3,8,16,12,18,73,56,9,8,56,42,276,21,32,18,62,113,74,167,59,9,254,7,1,5,1,8,6,127,8,128,9,10,185,31,339,86,1,20,218,8,2,2,4,54,2,1,4,81,1,11,2,45,10,1,149,9,7,94,4,1,59,1,1,35,1,7,1,45,1,1,7,4,1,2,13,19,16],\"yaxis\":\"y\",\"type\":\"bar\"}],                        {\"template\":{\"data\":{\"histogram2dcontour\":[{\"type\":\"histogram2dcontour\",\"colorbar\":{\"outlinewidth\":0,\"ticks\":\"\"},\"colorscale\":[[0.0,\"#0d0887\"],[0.1111111111111111,\"#46039f\"],[0.2222222222222222,\"#7201a8\"],[0.3333333333333333,\"#9c179e\"],[0.4444444444444444,\"#bd3786\"],[0.5555555555555556,\"#d8576b\"],[0.6666666666666666,\"#ed7953\"],[0.7777777777777778,\"#fb9f3a\"],[0.8888888888888888,\"#fdca26\"],[1.0,\"#f0f921\"]]}],\"choropleth\":[{\"type\":\"choropleth\",\"colorbar\":{\"outlinewidth\":0,\"ticks\":\"\"}}],\"histogram2d\":[{\"type\":\"histogram2d\",\"colorbar\":{\"outlinewidth\":0,\"ticks\":\"\"},\"colorscale\":[[0.0,\"#0d0887\"],[0.1111111111111111,\"#46039f\"],[0.2222222222222222,\"#7201a8\"],[0.3333333333333333,\"#9c179e\"],[0.4444444444444444,\"#bd3786\"],[0.5555555555555556,\"#d8576b\"],[0.6666666666666666,\"#ed7953\"],[0.7777777777777778,\"#fb9f3a\"],[0.8888888888888888,\"#fdca26\"],[1.0,\"#f0f921\"]]}],\"heatmap\":[{\"type\":\"heatmap\",\"colorbar\":{\"outlinewidth\":0,\"ticks\":\"\"},\"colorscale\":[[0.0,\"#0d0887\"],[0.1111111111111111,\"#46039f\"],[0.2222222222222222,\"#7201a8\"],[0.3333333333333333,\"#9c179e\"],[0.4444444444444444,\"#bd3786\"],[0.5555555555555556,\"#d8576b\"],[0.6666666666666666,\"#ed7953\"],[0.7777777777777778,\"#fb9f3a\"],[0.8888888888888888,\"#fdca26\"],[1.0,\"#f0f921\"]]}],\"heatmapgl\":[{\"type\":\"heatmapgl\",\"colorbar\":{\"outlinewidth\":0,\"ticks\":\"\"},\"colorscale\":[[0.0,\"#0d0887\"],[0.1111111111111111,\"#46039f\"],[0.2222222222222222,\"#7201a8\"],[0.3333333333333333,\"#9c179e\"],[0.4444444444444444,\"#bd3786\"],[0.5555555555555556,\"#d8576b\"],[0.6666666666666666,\"#ed7953\"],[0.7777777777777778,\"#fb9f3a\"],[0.8888888888888888,\"#fdca26\"],[1.0,\"#f0f921\"]]}],\"contourcarpet\":[{\"type\":\"contourcarpet\",\"colorbar\":{\"outlinewidth\":0,\"ticks\":\"\"}}],\"contour\":[{\"type\":\"contour\",\"colorbar\":{\"outlinewidth\":0,\"ticks\":\"\"},\"colorscale\":[[0.0,\"#0d0887\"],[0.1111111111111111,\"#46039f\"],[0.2222222222222222,\"#7201a8\"],[0.3333333333333333,\"#9c179e\"],[0.4444444444444444,\"#bd3786\"],[0.5555555555555556,\"#d8576b\"],[0.6666666666666666,\"#ed7953\"],[0.7777777777777778,\"#fb9f3a\"],[0.8888888888888888,\"#fdca26\"],[1.0,\"#f0f921\"]]}],\"surface\":[{\"type\":\"surface\",\"colorbar\":{\"outlinewidth\":0,\"ticks\":\"\"},\"colorscale\":[[0.0,\"#0d0887\"],[0.1111111111111111,\"#46039f\"],[0.2222222222222222,\"#7201a8\"],[0.3333333333333333,\"#9c179e\"],[0.4444444444444444,\"#bd3786\"],[0.5555555555555556,\"#d8576b\"],[0.6666666666666666,\"#ed7953\"],[0.7777777777777778,\"#fb9f3a\"],[0.8888888888888888,\"#fdca26\"],[1.0,\"#f0f921\"]]}],\"mesh3d\":[{\"type\":\"mesh3d\",\"colorbar\":{\"outlinewidth\":0,\"ticks\":\"\"}}],\"scatter\":[{\"fillpattern\":{\"fillmode\":\"overlay\",\"size\":10,\"solidity\":0.2},\"type\":\"scatter\"}],\"parcoords\":[{\"type\":\"parcoords\",\"line\":{\"colorbar\":{\"outlinewidth\":0,\"ticks\":\"\"}}}],\"scatterpolargl\":[{\"type\":\"scatterpolargl\",\"marker\":{\"colorbar\":{\"outlinewidth\":0,\"ticks\":\"\"}}}],\"bar\":[{\"error_x\":{\"color\":\"#2a3f5f\"},\"error_y\":{\"color\":\"#2a3f5f\"},\"marker\":{\"line\":{\"color\":\"#E5ECF6\",\"width\":0.5},\"pattern\":{\"fillmode\":\"overlay\",\"size\":10,\"solidity\":0.2}},\"type\":\"bar\"}],\"scattergeo\":[{\"type\":\"scattergeo\",\"marker\":{\"colorbar\":{\"outlinewidth\":0,\"ticks\":\"\"}}}],\"scatterpolar\":[{\"type\":\"scatterpolar\",\"marker\":{\"colorbar\":{\"outlinewidth\":0,\"ticks\":\"\"}}}],\"histogram\":[{\"marker\":{\"pattern\":{\"fillmode\":\"overlay\",\"size\":10,\"solidity\":0.2}},\"type\":\"histogram\"}],\"scattergl\":[{\"type\":\"scattergl\",\"marker\":{\"colorbar\":{\"outlinewidth\":0,\"ticks\":\"\"}}}],\"scatter3d\":[{\"type\":\"scatter3d\",\"line\":{\"colorbar\":{\"outlinewidth\":0,\"ticks\":\"\"}},\"marker\":{\"colorbar\":{\"outlinewidth\":0,\"ticks\":\"\"}}}],\"scattermapbox\":[{\"type\":\"scattermapbox\",\"marker\":{\"colorbar\":{\"outlinewidth\":0,\"ticks\":\"\"}}}],\"scatterternary\":[{\"type\":\"scatterternary\",\"marker\":{\"colorbar\":{\"outlinewidth\":0,\"ticks\":\"\"}}}],\"scattercarpet\":[{\"type\":\"scattercarpet\",\"marker\":{\"colorbar\":{\"outlinewidth\":0,\"ticks\":\"\"}}}],\"carpet\":[{\"aaxis\":{\"endlinecolor\":\"#2a3f5f\",\"gridcolor\":\"white\",\"linecolor\":\"white\",\"minorgridcolor\":\"white\",\"startlinecolor\":\"#2a3f5f\"},\"baxis\":{\"endlinecolor\":\"#2a3f5f\",\"gridcolor\":\"white\",\"linecolor\":\"white\",\"minorgridcolor\":\"white\",\"startlinecolor\":\"#2a3f5f\"},\"type\":\"carpet\"}],\"table\":[{\"cells\":{\"fill\":{\"color\":\"#EBF0F8\"},\"line\":{\"color\":\"white\"}},\"header\":{\"fill\":{\"color\":\"#C8D4E3\"},\"line\":{\"color\":\"white\"}},\"type\":\"table\"}],\"barpolar\":[{\"marker\":{\"line\":{\"color\":\"#E5ECF6\",\"width\":0.5},\"pattern\":{\"fillmode\":\"overlay\",\"size\":10,\"solidity\":0.2}},\"type\":\"barpolar\"}],\"pie\":[{\"automargin\":true,\"type\":\"pie\"}]},\"layout\":{\"autotypenumbers\":\"strict\",\"colorway\":[\"#636efa\",\"#EF553B\",\"#00cc96\",\"#ab63fa\",\"#FFA15A\",\"#19d3f3\",\"#FF6692\",\"#B6E880\",\"#FF97FF\",\"#FECB52\"],\"font\":{\"color\":\"#2a3f5f\"},\"hovermode\":\"closest\",\"hoverlabel\":{\"align\":\"left\"},\"paper_bgcolor\":\"white\",\"plot_bgcolor\":\"#E5ECF6\",\"polar\":{\"bgcolor\":\"#E5ECF6\",\"angularaxis\":{\"gridcolor\":\"white\",\"linecolor\":\"white\",\"ticks\":\"\"},\"radialaxis\":{\"gridcolor\":\"white\",\"linecolor\":\"white\",\"ticks\":\"\"}},\"ternary\":{\"bgcolor\":\"#E5ECF6\",\"aaxis\":{\"gridcolor\":\"white\",\"linecolor\":\"white\",\"ticks\":\"\"},\"baxis\":{\"gridcolor\":\"white\",\"linecolor\":\"white\",\"ticks\":\"\"},\"caxis\":{\"gridcolor\":\"white\",\"linecolor\":\"white\",\"ticks\":\"\"}},\"coloraxis\":{\"colorbar\":{\"outlinewidth\":0,\"ticks\":\"\"}},\"colorscale\":{\"sequential\":[[0.0,\"#0d0887\"],[0.1111111111111111,\"#46039f\"],[0.2222222222222222,\"#7201a8\"],[0.3333333333333333,\"#9c179e\"],[0.4444444444444444,\"#bd3786\"],[0.5555555555555556,\"#d8576b\"],[0.6666666666666666,\"#ed7953\"],[0.7777777777777778,\"#fb9f3a\"],[0.8888888888888888,\"#fdca26\"],[1.0,\"#f0f921\"]],\"sequentialminus\":[[0.0,\"#0d0887\"],[0.1111111111111111,\"#46039f\"],[0.2222222222222222,\"#7201a8\"],[0.3333333333333333,\"#9c179e\"],[0.4444444444444444,\"#bd3786\"],[0.5555555555555556,\"#d8576b\"],[0.6666666666666666,\"#ed7953\"],[0.7777777777777778,\"#fb9f3a\"],[0.8888888888888888,\"#fdca26\"],[1.0,\"#f0f921\"]],\"diverging\":[[0,\"#8e0152\"],[0.1,\"#c51b7d\"],[0.2,\"#de77ae\"],[0.3,\"#f1b6da\"],[0.4,\"#fde0ef\"],[0.5,\"#f7f7f7\"],[0.6,\"#e6f5d0\"],[0.7,\"#b8e186\"],[0.8,\"#7fbc41\"],[0.9,\"#4d9221\"],[1,\"#276419\"]]},\"xaxis\":{\"gridcolor\":\"white\",\"linecolor\":\"white\",\"ticks\":\"\",\"title\":{\"standoff\":15},\"zerolinecolor\":\"white\",\"automargin\":true,\"zerolinewidth\":2},\"yaxis\":{\"gridcolor\":\"white\",\"linecolor\":\"white\",\"ticks\":\"\",\"title\":{\"standoff\":15},\"zerolinecolor\":\"white\",\"automargin\":true,\"zerolinewidth\":2},\"scene\":{\"xaxis\":{\"backgroundcolor\":\"#E5ECF6\",\"gridcolor\":\"white\",\"linecolor\":\"white\",\"showbackground\":true,\"ticks\":\"\",\"zerolinecolor\":\"white\",\"gridwidth\":2},\"yaxis\":{\"backgroundcolor\":\"#E5ECF6\",\"gridcolor\":\"white\",\"linecolor\":\"white\",\"showbackground\":true,\"ticks\":\"\",\"zerolinecolor\":\"white\",\"gridwidth\":2},\"zaxis\":{\"backgroundcolor\":\"#E5ECF6\",\"gridcolor\":\"white\",\"linecolor\":\"white\",\"showbackground\":true,\"ticks\":\"\",\"zerolinecolor\":\"white\",\"gridwidth\":2}},\"shapedefaults\":{\"line\":{\"color\":\"#2a3f5f\"}},\"annotationdefaults\":{\"arrowcolor\":\"#2a3f5f\",\"arrowhead\":0,\"arrowwidth\":1},\"geo\":{\"bgcolor\":\"white\",\"landcolor\":\"#E5ECF6\",\"subunitcolor\":\"white\",\"showland\":true,\"showlakes\":true,\"lakecolor\":\"white\"},\"title\":{\"x\":0.05},\"mapbox\":{\"style\":\"light\"}}},\"xaxis\":{\"anchor\":\"y\",\"domain\":[0.0,1.0],\"title\":{\"text\":\"Hemisphere\"},\"showgrid\":true},\"yaxis\":{\"anchor\":\"x\",\"domain\":[0.0,1.0],\"title\":{\"text\":\"value\"}},\"legend\":{\"title\":{\"text\":\"variable\"},\"tracegroupgap\":0},\"title\":{\"text\":\"total alcohol consumption by Hemisphere\",\"font\":{\"size\":24}},\"barmode\":\"group\",\"height\":600,\"width\":800},                        {\"responsive\": true}                    ).then(function(){\n",
       "                            \n",
       "var gd = document.getElementById('82162519-7e77-4721-a173-41f5c9417705');\n",
       "var x = new MutationObserver(function (mutations, observer) {{\n",
       "        var display = window.getComputedStyle(gd).display;\n",
       "        if (!display || display === 'none') {{\n",
       "            console.log([gd, 'removed!']);\n",
       "            Plotly.purge(gd);\n",
       "            observer.disconnect();\n",
       "        }}\n",
       "}});\n",
       "\n",
       "// Listen for the removal of the full notebook cells\n",
       "var notebookContainer = gd.closest('#notebook-container');\n",
       "if (notebookContainer) {{\n",
       "    x.observe(notebookContainer, {childList: true});\n",
       "}}\n",
       "\n",
       "// Listen for the clearing of the current output cell\n",
       "var outputEl = gd.closest('.output');\n",
       "if (outputEl) {{\n",
       "    x.observe(outputEl, {childList: true});\n",
       "}}\n",
       "\n",
       "                        })                };                });            </script>        </div>"
      ]
     },
     "metadata": {},
     "output_type": "display_data"
    }
   ],
   "source": [
    "y=[\"Beer_PerCapita\", \"Spirit_PerCapita\", \"Wine_PerCapita\"]\n",
    "(px.bar(df, x=\"Hemisphere\",y=y, title=\"total alcohol consumption by Hemisphere\",\n",
    "        barmode=\"group\", width=800, height=600).update_layout(title_font_size=24).update_xaxes(showgrid=True)).show()"
   ]
  },
  {
   "cell_type": "markdown",
   "id": "81cf8e65-003c-4167-b64b-742d0d8520eb",
   "metadata": {},
   "source": [
    "A plot that shows how much is each Hemisphere's alcohol consumption by type of alcohol."
   ]
  },
  {
   "cell_type": "code",
   "execution_count": 70,
   "id": "d2d401ff-a41d-4d8e-a88e-5cb4bd91bcb3",
   "metadata": {},
   "outputs": [
    {
     "name": "stderr",
     "output_type": "stream",
     "text": [
      "C:\\Users\\ASUS\\AppData\\Local\\Temp\\ipykernel_5572\\3680581275.py:12: FutureWarning:\n",
      "\n",
      "DataFrameGroupBy.dtypes is deprecated and will be removed in a future version. Check the dtypes on the base object instead\n",
      "\n"
     ]
    },
    {
     "data": {
      "text/html": [
       "<div>\n",
       "<style scoped>\n",
       "    .dataframe tbody tr th:only-of-type {\n",
       "        vertical-align: middle;\n",
       "    }\n",
       "\n",
       "    .dataframe tbody tr th {\n",
       "        vertical-align: top;\n",
       "    }\n",
       "\n",
       "    .dataframe thead th {\n",
       "        text-align: right;\n",
       "    }\n",
       "</style>\n",
       "<table border=\"1\" class=\"dataframe\">\n",
       "  <thead>\n",
       "    <tr style=\"text-align: right;\">\n",
       "      <th></th>\n",
       "      <th>Hemisphere</th>\n",
       "      <th>Beer_PerCapita</th>\n",
       "      <th>Spirit_PerCapita</th>\n",
       "      <th>Wine_PerCapita</th>\n",
       "    </tr>\n",
       "  </thead>\n",
       "  <tbody>\n",
       "    <tr>\n",
       "      <th>0</th>\n",
       "      <td>both</td>\n",
       "      <td>787</td>\n",
       "      <td>477</td>\n",
       "      <td>45</td>\n",
       "    </tr>\n",
       "    <tr>\n",
       "      <th>1</th>\n",
       "      <td>north</td>\n",
       "      <td>12581</td>\n",
       "      <td>9870</td>\n",
       "      <td>6707</td>\n",
       "    </tr>\n",
       "    <tr>\n",
       "      <th>2</th>\n",
       "      <td>noth</td>\n",
       "      <td>373</td>\n",
       "      <td>599</td>\n",
       "      <td>41</td>\n",
       "    </tr>\n",
       "    <tr>\n",
       "      <th>3</th>\n",
       "      <td>south</td>\n",
       "      <td>3042</td>\n",
       "      <td>839</td>\n",
       "      <td>1332</td>\n",
       "    </tr>\n",
       "  </tbody>\n",
       "</table>\n",
       "</div>"
      ],
      "text/plain": [
       "  Hemisphere  Beer_PerCapita  Spirit_PerCapita  Wine_PerCapita\n",
       "0       both             787               477              45\n",
       "1      north           12581              9870            6707\n",
       "2       noth             373               599              41\n",
       "3      south            3042               839            1332"
      ]
     },
     "execution_count": 70,
     "metadata": {},
     "output_type": "execute_result"
    }
   ],
   "source": [
    "Hemisphere_df = pd.DataFrame()\n",
    "Beer_PerCapita_list= []\n",
    "Spirit_PerCapita_list= []\n",
    "Wine_PerCapita_list= []\n",
    "\n",
    "for i in df.groupby(\"Hemisphere\"):\n",
    "    new_i = i[1]\n",
    "    Beer_PerCapita_list.append(new_i[\"Beer_PerCapita\"].sum())\n",
    "    Spirit_PerCapita_list.append(new_i[\"Spirit_PerCapita\"].sum())\n",
    "    Wine_PerCapita_list.append(new_i[\"Wine_PerCapita\"].sum())\n",
    "\n",
    "Hemisphere_df[\"Hemisphere\"] = df.groupby(\"Hemisphere\").dtypes.index\n",
    "Hemisphere_df[\"Beer_PerCapita\"] = Beer_PerCapita_list\n",
    "Hemisphere_df[\"Spirit_PerCapita\"] = Spirit_PerCapita_list\n",
    "Hemisphere_df[\"Wine_PerCapita\"] = Wine_PerCapita_list\n",
    "\n",
    "Hemisphere_df.head()"
   ]
  },
  {
   "cell_type": "markdown",
   "id": "67d7f473-2b2d-4643-a21f-2d34cb4e5c7e",
   "metadata": {},
   "source": [
    "Making a dataframe that shows the total and type of alcohol consumption of each Hemisphere. it is for making a "
   ]
  },
  {
   "cell_type": "code",
   "execution_count": 73,
   "id": "5b5f8947-9512-409a-bc89-e20fa6ba5fc8",
   "metadata": {},
   "outputs": [
    {
     "data": {
      "text/plain": [
       "<Axes: xlabel='Hemisphere'>"
      ]
     },
     "execution_count": 73,
     "metadata": {},
     "output_type": "execute_result"
    },
    {
     "data": {
      "image/png": "[encoded data removed]",
      "text/plain": [
       "<Figure size 800x500 with 1 Axes>"
      ]
     },
     "metadata": {},
     "output_type": "display_data"
    }
   ],
   "source": [
    "my_color =['mediumseagreen', 'darkolivegreen','greenyellow']\n",
    "Hemisphere_df.plot(x=\"Hemisphere\", y=[\"Beer_PerCapita\", \"Spirit_PerCapita\", \"Wine_PerCapita\"], \n",
    "            kind=\"bar\",figsize=(8,5), color=my_color)"
   ]
  },
  {
   "cell_type": "code",
   "execution_count": null,
   "id": "d27be6de-480a-4db0-8596-cb8f3cc210c3",
   "metadata": {},
   "outputs": [],
   "source": []
  },
  {
   "cell_type": "code",
   "execution_count": 20,
   "id": "f332db2b-e04c-4bba-bee3-ac6388f19403",
   "metadata": {},
   "outputs": [],
   "source": [
    "plt.show()"
   ]
  },
  {
   "cell_type": "code",
   "execution_count": null,
   "id": "8019a5a7-5e16-4558-b9a0-0c09931de628",
   "metadata": {},
   "outputs": [],
   "source": []
  },
  {
   "cell_type": "code",
   "execution_count": null,
   "id": "5f2a7421-b3ff-44ad-8513-3311fd91ec78",
   "metadata": {},
   "outputs": [],
   "source": []
  }
 ],
 "metadata": {
  "kernelspec": {
   "display_name": "Python 3 (ipykernel)",
   "language": "python",
   "name": "python3"
  },
  "language_info": {
   "codemirror_mode": {
    "name": "ipython",
    "version": 3
   },
   "file_extension": ".py",
   "mimetype": "text/x-python",
   "name": "python",
   "nbconvert_exporter": "python",
   "pygments_lexer": "ipython3",
   "version": "3.12.4"
  }
 },
 "nbformat": 4,
 "nbformat_minor": 5
}
